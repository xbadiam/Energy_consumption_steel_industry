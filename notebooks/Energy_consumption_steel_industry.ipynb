{
  "nbformat": 4,
  "nbformat_minor": 0,
  "metadata": {
    "colab": {
      "provenance": [],
      "authorship_tag": "ABX9TyPtxql9/YmDNJugmJM82L4I",
      "include_colab_link": true
    },
    "kernelspec": {
      "name": "python3",
      "display_name": "Python 3"
    },
    "language_info": {
      "name": "python"
    }
  },
  "cells": [
    {
      "cell_type": "markdown",
      "metadata": {
        "id": "view-in-github",
        "colab_type": "text"
      },
      "source": [
        "<a href=\"https://colab.research.google.com/github/xbadiam/Energy_consumption_steel_industry/blob/main/notebooks/Energy_consumption_steel_industry.ipynb\" target=\"_parent\"><img src=\"https://colab.research.google.com/assets/colab-badge.svg\" alt=\"Open In Colab\"/></a>"
      ]
    },
    {
      "cell_type": "markdown",
      "source": [
        "# Energy consumption of the steel industry"
      ],
      "metadata": {
        "id": "G3QVt6esVAQR"
      }
    },
    {
      "cell_type": "markdown",
      "source": [
        "## 1. Context\n",
        "\n",
        "This company produces several types of coils, steel plates, and iron plates. The information on electricity consumption is held in a cloud-based system. The information on energy consumption of the industry is stored on the website of the Korea Electric Power Corporation (pccs.kepco.go.kr), and the perspectives on daily, monthly, and annual data are calculated and shown.\n",
        "\n",
        "### 1.1. Attribute Information:\n",
        "\n",
        "* Date Continuous-time data taken on the first of the month\n",
        "* Usage_kWh Industry Energy Consumption Continuous kWh\n",
        "* Lagging Current reactive power Continuous kVarh\n",
        "* Leading Current reactive power Continuous kVarh\n",
        "* CO2 Continuous ppm\n",
        "* NSM Number of Seconds from midnight Continuous S\n",
        "* Week status Categorical (Weekend (0) or a Weekday(1))\n",
        "* Day of week Categorical Sunday, Monday : Saturday\n",
        "* Load Type Categorical Light Load, Medium Load, Maximum Load\n",
        "\n",
        "### 1.2. Acknowledgements\n",
        "\n",
        "This dataset is sourced from the UCI Machine Learning Repository\n",
        "\n",
        "### 1.3. Inspiration\n",
        "Which times of the year is the most energy consumed?\n",
        "What patterns can we identify in energy usage?"
      ],
      "metadata": {
        "id": "Scd8UQ578xLA"
      }
    },
    {
      "cell_type": "markdown",
      "source": [
        "## 2. Imports"
      ],
      "metadata": {
        "id": "nTPCRiUv8sio"
      }
    },
    {
      "cell_type": "code",
      "execution_count": null,
      "metadata": {
        "id": "AHfJqootUyIR"
      },
      "outputs": [],
      "source": [
        "!rm -rf /content/Energy_consumption_steel_industry\n",
        "\n",
        "! git clone https://github.com/xbadiam/Energy_consumption_steel_industry.git"
      ]
    },
    {
      "cell_type": "code",
      "source": [
        "try:\n",
        "  import skforecast\n",
        "except:\n",
        "  !pip install skforecast\n",
        "  import skforecast"
      ],
      "metadata": {
        "id": "rKDXu9wVUQsq"
      },
      "execution_count": null,
      "outputs": []
    },
    {
      "cell_type": "code",
      "source": [
        "# Data processing\n",
        "# ==============================================================================\n",
        "import pandas as pd\n",
        "import numpy as np\n",
        "import matplotlib.pyplot as plt\n",
        "%matplotlib inline\n",
        "import seaborn as sns\n",
        "\n",
        "# graphic\n",
        "# ==============================================================================\n",
        "import matplotlib.pyplot as plt\n",
        "import plotly.graph_objects as go\n",
        "import plotly.express as px\n",
        "import plotly.figure_factory as ff\n",
        "from plotly.subplots import make_subplots\n",
        "from statsmodels.graphics.tsaplots import plot_acf, plot_pacf\n",
        "\n",
        "# Modelado y Forecasting\n",
        "# ==============================================================================\n",
        "from lightgbm import LGBMRegressor\n",
        "import skforecast\n",
        "from skforecast.plot import calculate_lag_autocorrelation, plot_residuals\n",
        "from skforecast.recursive import ForecasterEquivalentDate, ForecasterRecursive\n",
        "from skforecast.model_selection import TimeSeriesFold, bayesian_search_forecaster, backtesting_forecaster\n",
        "from skforecast.preprocessing import RollingFeatures\n",
        "from statsmodels.tsa.stattools import kpss, adfuller"
      ],
      "metadata": {
        "id": "aN8eTAxlgtAX"
      },
      "execution_count": null,
      "outputs": []
    },
    {
      "cell_type": "markdown",
      "source": [
        "## 2. Funtions\n"
      ],
      "metadata": {
        "id": "6ZgkDkyDvc3R"
      }
    },
    {
      "cell_type": "code",
      "source": [
        "# Function to run ADF Test and print results\n",
        "def adf_test(series):\n",
        "  ADF_result = adfuller(series)\n",
        "  print(f'p-value: {ADF_result[1]}')\n",
        "  if ADF_result[1] < 0.05:\n",
        "     print(\"The time series is stationary (we Reject the null hypothesis H0).\")\n",
        "  else:\n",
        "    print(\"The time series is non-stationary (we cannot reject the null hypothesis H0).\")\n",
        "  print('\\n')\n"
      ],
      "metadata": {
        "id": "VQTaWt7uwVft"
      },
      "execution_count": null,
      "outputs": []
    },
    {
      "cell_type": "markdown",
      "source": [
        "## 3. Load data"
      ],
      "metadata": {
        "id": "nANe1CPT5d2o"
      }
    },
    {
      "cell_type": "code",
      "source": [
        "data = pd.read_csv('/content/Energy_consumption_steel_industry/inputs/Steel_industry_data.csv')\n"
      ],
      "metadata": {
        "id": "Qpgc05dWgs82"
      },
      "execution_count": null,
      "outputs": []
    },
    {
      "cell_type": "code",
      "source": [
        "data.head(10)"
      ],
      "metadata": {
        "id": "8AibroU86aiE"
      },
      "execution_count": null,
      "outputs": []
    },
    {
      "cell_type": "code",
      "source": [
        "# Dataset information\n",
        "data.info()\n"
      ],
      "metadata": {
        "id": "A7WVXctwMt6o"
      },
      "execution_count": null,
      "outputs": []
    },
    {
      "cell_type": "code",
      "source": [
        "# Statistical summary\n",
        "print('Statistical Summary of Numerical Features:')\n",
        "print('-' * 50)\n",
        "data.describe().T"
      ],
      "metadata": {
        "id": "kIgCnAnENcqU"
      },
      "execution_count": null,
      "outputs": []
    },
    {
      "cell_type": "code",
      "source": [
        "# Preprocesado de datos (estableciendo índice y frecuencia)\n",
        "# ==============================================================================\n",
        "\n",
        "data['date'] = pd.to_datetime(data['date'], dayfirst=True, errors='coerce')\n",
        "data = data.set_index('date')\n",
        "data = data.asfreq('15min')\n",
        "data = data.sort_index()"
      ],
      "metadata": {
        "id": "etGuOh6aQXMz"
      },
      "execution_count": null,
      "outputs": []
    },
    {
      "cell_type": "code",
      "source": [
        "start_date = data.index.min()\n",
        "end_date = data.index.max()\n",
        "date_range_complete = pd.date_range(start=start_date, end=end_date, freq=data.index.freq)\n",
        "\n",
        "# Detectar si faltan fechas\n",
        "missing_dates = date_range_complete.difference(data.index)\n",
        "\n",
        "print(f\"Complete index: {len(missing_dates) == 0}\")\n",
        "print(f\"Missing dates: {len(missing_dates)}\")\n",
        "print(f\"Rows with missing values: {data.isnull().any(axis=1).mean():.2%}\")"
      ],
      "metadata": {
        "id": "Sdrucc1KOrCC"
      },
      "execution_count": null,
      "outputs": []
    },
    {
      "cell_type": "code",
      "source": [
        "# Extract temporal features from date\n",
        "data['year'] = data.index.year\n",
        "data['month'] = data.index.month\n",
        "data['day'] = data.index.day\n",
        "data['hour'] = data.index.hour\n",
        "data['minute'] = data.index.minute\n",
        "data['day_of_year'] = data.index.dayofyear\n",
        "data['week_of_year'] = data.index.isocalendar().week\n",
        "data['quarter'] = data.index.quarter"
      ],
      "metadata": {
        "id": "zR9EYQ8SUium"
      },
      "execution_count": null,
      "outputs": []
    },
    {
      "cell_type": "markdown",
      "source": [
        "## 4. Data division\n",
        "\n",
        "the dataset starts on 2018-01-01 00:00:00 and ends on 2018-12-31 23:45:00. In addition, to optimize the model's hyperparameters and evaluate its predictive performance, the data is divided into three sets: training, validation and test."
      ],
      "metadata": {
        "id": "1w_OmWJo56Qe"
      }
    },
    {
      "cell_type": "code",
      "source": [
        "# 9. Dividir tren / test\n",
        "split = int(len(data)*0.8)\n",
        "data_train = data.iloc[:split]\n",
        "data_test = data.iloc[split:]"
      ],
      "metadata": {
        "id": "nPmFNQZWA8UF"
      },
      "execution_count": null,
      "outputs": []
    },
    {
      "cell_type": "code",
      "source": [
        "print(f\"Fechas train      : {data_train.index.min()} --- {data_train.index.max()}  (n={len(data_train)})\")\n",
        "#print(f\"Fechas validacion : {datos_val.index.min()} --- {datos_val.index.max()}  (n={len(datos_val)})\")\n",
        "print(f\"Fechas test       : {data_test.index.min()} --- {data_test.index.max()}  (n={len(data_test)})\")"
      ],
      "metadata": {
        "id": "PHwQYW9X7vmg"
      },
      "execution_count": null,
      "outputs": []
    },
    {
      "cell_type": "markdown",
      "source": [
        "## 5. Graphic exploration"
      ],
      "metadata": {
        "id": "e3A7WTot3sgc"
      }
    },
    {
      "cell_type": "markdown",
      "source": [
        "### 5.1. Time series chart"
      ],
      "metadata": {
        "id": "ucalE4ED4CX7"
      }
    },
    {
      "cell_type": "code",
      "source": [
        "fig = go.Figure()\n",
        "fig.add_trace(go.Scatter(x=data_train.index, y=data_train['Usage_kWh'], mode='lines', name='Train'))\n",
        "#fig.add_trace(go.Scatter(x=data_val.index, y=datos_val['Demand'], mode='lines', name='Validation'))\n",
        "fig.add_trace(go.Scatter(x=data_test.index, y=data_test['Usage_kWh'], mode='lines', name='Test'))\n",
        "fig.update_layout(\n",
        "    title  = 'Actual Usage (kWh)',\n",
        "    xaxis_title=\"Date\",\n",
        "    yaxis_title=\"Usage (MWh)\",\n",
        "    legend_title=\"Particion:\",\n",
        "    width=800,\n",
        "    height=400,\n",
        "    margin=dict(l=20, r=20, t=35, b=20),\n",
        "    legend=dict(orientation=\"h\", yanchor=\"top\", y=1, xanchor=\"left\", x=0.001)\n",
        ")\n",
        "fig.show()"
      ],
      "metadata": {
        "id": "MBlQrwzi3uiD"
      },
      "execution_count": null,
      "outputs": []
    },
    {
      "cell_type": "code",
      "source": [
        "# Gráfico serie temporal con zoom\n",
        "# ==============================================================================\n",
        "zoom = ('2018-04-01 14:00:00','2018-05-01 14:00:00')\n",
        "fig = plt.figure(figsize=(8, 4))\n",
        "grid = plt.GridSpec(nrows=8, ncols=1, hspace=0.6, wspace=0)\n",
        "main_ax = fig.add_subplot(grid[1:3, :])\n",
        "zoom_ax = fig.add_subplot(grid[5:, :])\n",
        "data['Usage_kWh'].plot(ax=main_ax, c='black', alpha=0.5, linewidth=0.5)\n",
        "min_y = min(data['Usage_kWh'])\n",
        "max_y = max(data['Usage_kWh'])\n",
        "main_ax.fill_between(zoom, min_y, max_y, facecolor='blue', alpha=0.5, zorder=0)\n",
        "main_ax.set_xlabel('')\n",
        "data.loc[zoom[0]: zoom[1]]['Usage_kWh'].plot(ax=zoom_ax, color='blue', linewidth=1)\n",
        "main_ax.set_title(f'Usage (Kwh): {data.index.min()}, {data.index.max()}', fontsize=10)\n",
        "zoom_ax.set_title(f'Demanda (Kwh): {zoom}', fontsize=10)\n",
        "zoom_ax.set_xlabel('')\n",
        "plt.subplots_adjust(hspace=1)"
      ],
      "metadata": {
        "id": "OHuchqRsGqGV"
      },
      "execution_count": null,
      "outputs": []
    },
    {
      "cell_type": "markdown",
      "source": [
        "When zooming in on the time series, a clear weekly seasonality becomes evident, with higher consumption during weekdays (Monday to Friday) and lower or nothing consumption on weeknends. It is also observed that there is a strong correlation between the consumption of one day and that of the previous day.  "
      ],
      "metadata": {
        "id": "Bk54RcMdKO7T"
      }
    },
    {
      "cell_type": "markdown",
      "source": [
        "### 5.2. Stationarity chart"
      ],
      "metadata": {
        "id": "OA2KYdBmNWiP"
      }
    },
    {
      "cell_type": "code",
      "source": [
        "fig, axs = plt.subplots(2, 2, figsize=(8, 5), sharex=False, sharey=True)\n",
        "axs = axs.ravel()\n",
        "\n",
        "# Distribution of usage per month\n",
        "data['month'] = data.index.month\n",
        "data.boxplot(column='Usage_kWh', by='month', ax=axs[0], flierprops={'markersize': 3, 'alpha': 0.3})\n",
        "data.groupby('month')['Usage_kWh'].median().plot(style='o-', linewidth=0.8, ax=axs[0])\n",
        "axs[0].set_ylabel('Usage_kWh')\n",
        "axs[0].set_title('Usage per month', fontsize=9)\n",
        "\n",
        "# Distribution of usage per day of week\n",
        "data['week_day'] = data.index.day_of_week + 1\n",
        "data.boxplot(column='Usage_kWh', by='week_day', ax=axs[1], flierprops={'markersize': 3, 'alpha': 0.3})\n",
        "data.groupby('week_day')['Usage_kWh'].median().plot(style='o-', linewidth=0.8, ax=axs[1])\n",
        "axs[1].set_ylabel('Usage (kWh)')\n",
        "axs[1].set_title('Usage per day of the week', fontsize=9)\n",
        "\n",
        "# Distribution of usage per hour of day\n",
        "data['hour_day'] = data.index.hour + 1\n",
        "data.boxplot(column='Usage_kWh', by='hour_day', ax=axs[2], flierprops={'markersize': 3, 'alpha': 0.3})\n",
        "data.groupby('hour_day')['Usage_kWh'].median().plot(style='o-', linewidth=0.8, ax=axs[2])\n",
        "axs[2].set_ylabel('Usage (kWh)')\n",
        "axs[2].set_title('Distribution of usage per hour of day', fontsize=9)\n",
        "\n",
        "# Distribusión de demanda por día de la semana y hora del día\n",
        "mean_day_hour = data.groupby([\"week_day\", \"hour_day\"])[\"Usage_kWh\"].mean()\n",
        "mean_day_hour.plot(ax=axs[3])\n",
        "axs[3].set(\n",
        "    title       = \"Usage average\",\n",
        "    xticks      = [i * 24 for i in range(7)],\n",
        "    xticklabels = [\"Mon\", \"Tue\", \"Wed\", \"Thu\", \"Fri\", \"Sat\", \"Sun\"],\n",
        "    xlabel      = \"Day and hour\",\n",
        "    ylabel      = \"Usage\"\n",
        ")\n",
        "\n",
        "axs[3].title.set_size(10)\n",
        "\n",
        "fig.suptitle(\"Stationarity charts\", fontsize=12)\n",
        "fig.tight_layout()"
      ],
      "metadata": {
        "id": "K8vW4f_7NCCc"
      },
      "execution_count": null,
      "outputs": []
    },
    {
      "cell_type": "markdown",
      "source": [
        "**Augmented Dickey-Fuller (ADF)**\n",
        "\n",
        "The first step is to determine whether our random walk is stationary or not. We\n",
        "know that since there are visible trends in our sequence, it is not stationary. Nevertheless, let’s apply the ADF test to make sure.\n",
        "\n",
        "* If $p−valor <α$ ⇒ It is rejected ${H_0}$\n",
        "* If $p−valor ≥ α$ ⇒ It is accepted ${H_0}$"
      ],
      "metadata": {
        "id": "JeWbCm62zbnv"
      }
    },
    {
      "cell_type": "markdown",
      "source": [
        "### 5.3. Autocorrelation graphs"
      ],
      "metadata": {
        "id": "3GK3yN0ZgkqN"
      }
    },
    {
      "cell_type": "code",
      "source": [
        "# Gráfico autocorrelación\n",
        "# ==============================================================================\n",
        "fig, ax = plt.subplots(figsize=(5, 2))\n",
        "plot_acf(data['Usage_kWh'], ax=ax, lags=72)\n",
        "plt.show()"
      ],
      "metadata": {
        "id": "eIDQkIDZgvWX"
      },
      "execution_count": null,
      "outputs": []
    },
    {
      "cell_type": "code",
      "source": [
        "# Partial autocorrelation graph\n",
        "# ==============================================================================\n",
        "fig, ax = plt.subplots(figsize=(5, 2))\n",
        "plot_pacf(data['Usage_kWh'], ax=ax, lags=60)\n",
        "plt.show()"
      ],
      "metadata": {
        "id": "fPiz1_zShN0A"
      },
      "execution_count": null,
      "outputs": []
    },
    {
      "cell_type": "code",
      "source": [
        "# Top 10 lags con mayor autocorrelación parcial absoluta\n",
        "# ==============================================================================\n",
        "calculate_lag_autocorrelation(\n",
        "    data    = data['Usage_kWh'],\n",
        "    n_lags  = 60,\n",
        "    sort_by = \"partial_autocorrelation_abs\"\n",
        ").head(10)"
      ],
      "metadata": {
        "id": "Zo2RRqaGhjMb"
      },
      "execution_count": null,
      "outputs": []
    },
    {
      "cell_type": "markdown",
      "source": [],
      "metadata": {
        "id": "I0GyNGuTdWjo"
      }
    },
    {
      "cell_type": "markdown",
      "source": [
        "## 6. Modelo Baseline"
      ],
      "metadata": {
        "id": "hX1ta9zqdXHC"
      }
    },
    {
      "cell_type": "code",
      "source": [
        "# Create a baseline: value of the same hour of the previous day\n",
        "# ==============================================================================\n",
        "forecaster = ForecasterEquivalentDate(\n",
        "                 offset    = pd.DateOffset(days=1),\n",
        "                 n_offsets = 1\n",
        "             )\n",
        "\n",
        "# Forescater's training\n",
        "# ==============================================================================\n",
        "end_train = str(data_train.index[-1])\n",
        "forecaster.fit(y=data.loc[:end_train , 'Usage_kWh'])\n",
        "forecaster"
      ],
      "metadata": {
        "id": "vP2N6FwGd5s_"
      },
      "execution_count": null,
      "outputs": []
    },
    {
      "cell_type": "code",
      "source": [
        "# Backtesting\n",
        "# ==============================================================================\n",
        "end_test = str(data_test.index[-1])\n",
        "\n",
        "cv = TimeSeriesFold(\n",
        "        steps              = 24,\n",
        "        initial_train_size = len(data.loc[:end_train]),\n",
        "        refit              = False\n",
        ")\n",
        "metrica, predicciones = backtesting_forecaster(\n",
        "                          forecaster = forecaster,\n",
        "                          y          = data['Usage_kWh'],\n",
        "                          cv         = cv,\n",
        "                          metric     = 'mean_absolute_error'\n",
        "                       )\n",
        "metrica"
      ],
      "metadata": {
        "id": "CwGZ07mq4f-b"
      },
      "execution_count": null,
      "outputs": []
    },
    {
      "cell_type": "markdown",
      "source": [
        "## 7. Recursive autoregressive model\n",
        "\n",
        "It's training a recursive autoregressive model"
      ],
      "metadata": {
        "id": "sUyuJc2yFjHR"
      }
    },
    {
      "cell_type": "code",
      "source": [
        "# Create the forecaster\n",
        "# ==============================================================================\n",
        "window_features = RollingFeatures(stats=[\"mean\"], window_sizes=24 * 3)\n",
        "\n",
        "forecaster = ForecasterRecursive(\n",
        "                 regressor       = LGBMRegressor(random_state=15926, verbose=-1),\n",
        "                 lags            = 24,\n",
        "                 window_features = window_features\n",
        "             )\n",
        "\n",
        "# Entrena el forecaster\n",
        "# ==============================================================================\n",
        "forecaster.fit(y=data.loc[:end_train, 'Usage_kWh'])\n",
        "forecaster"
      ],
      "metadata": {
        "id": "WNFG_8YsIKKq"
      },
      "execution_count": null,
      "outputs": []
    },
    {
      "cell_type": "markdown",
      "source": [
        "### 7.1. Backtesting"
      ],
      "metadata": {
        "id": "qIpRYRrHKSV6"
      }
    },
    {
      "cell_type": "code",
      "source": [
        "# Backtesting\n",
        "# ==============================================================================\n",
        "metrica, predicciones = backtesting_forecaster(\n",
        "                            forecaster = forecaster,\n",
        "                            y          = data['Usage_kWh'],\n",
        "                            cv         = cv,\n",
        "                            metric     = 'mean_absolute_error',\n",
        "                            verbose    = True,  # False para no mostrar info\n",
        "                        )"
      ],
      "metadata": {
        "id": "fu53HqCoFh3k"
      },
      "execution_count": null,
      "outputs": []
    },
    {
      "cell_type": "code",
      "source": [
        "# Error backtest\n",
        "# ==============================================================================\n",
        "metrica"
      ],
      "metadata": {
        "id": "WDgk5eBPLE_x"
      },
      "execution_count": null,
      "outputs": []
    },
    {
      "cell_type": "code",
      "source": [
        "# Predict\n",
        "# ==============================================================================\n",
        "predictions = forecaster.predict(steps=36)\n",
        "predictions.head(3)"
      ],
      "metadata": {
        "id": "y-V_QSlbK46B"
      },
      "execution_count": null,
      "outputs": []
    },
    {
      "cell_type": "code",
      "source": [
        "# Gráfico prediccion vs valores reales\n",
        "# ==============================================================================\n",
        "fig = go.Figure()\n",
        "trace1 = go.Scatter(x=data_test.index, y=data_test['Usage_kWh'], name=\"test\", mode=\"lines\")\n",
        "trace2 = go.Scatter(x=predicciones.index, y=predicciones['pred'], name=\"prediction\", mode=\"lines\")\n",
        "fig.add_trace(trace1)\n",
        "fig.add_trace(trace2)\n",
        "fig.update_layout(\n",
        "    title=\"Predicción vs valores reales en test\",\n",
        "    xaxis_title=\"Date time\",\n",
        "    yaxis_title=\"Usage_kWh\",\n",
        "    width=800,\n",
        "    height=400,\n",
        "    margin=dict(l=20, r=20, t=35, b=20),\n",
        "    legend=dict(orientation=\"h\", yanchor=\"top\", y=1.01, xanchor=\"left\", x=0)\n",
        ")\n",
        "fig.show()"
      ],
      "metadata": {
        "id": "k1dDg-eCLNYe"
      },
      "execution_count": null,
      "outputs": []
    }
  ]
}