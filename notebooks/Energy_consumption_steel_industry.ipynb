{
  "nbformat": 4,
  "nbformat_minor": 0,
  "metadata": {
    "colab": {
      "provenance": [],
      "authorship_tag": "ABX9TyN0wvRudu501LZnuNX55FQe",
      "include_colab_link": true
    },
    "kernelspec": {
      "name": "python3",
      "display_name": "Python 3"
    },
    "language_info": {
      "name": "python"
    }
  },
  "cells": [
    {
      "cell_type": "markdown",
      "metadata": {
        "id": "view-in-github",
        "colab_type": "text"
      },
      "source": [
        "<a href=\"https://colab.research.google.com/github/xbadiam/Energy_consumption_steel_industry/blob/main/notebooks/Energy_consumption_steel_industry.ipynb\" target=\"_parent\"><img src=\"https://colab.research.google.com/assets/colab-badge.svg\" alt=\"Open In Colab\"/></a>"
      ]
    },
    {
      "cell_type": "markdown",
      "source": [
        "# Energy consumption of the steel industry"
      ],
      "metadata": {
        "id": "G3QVt6esVAQR"
      }
    },
    {
      "cell_type": "markdown",
      "source": [
        "## 1. Context\n",
        "\n",
        "This company produces several types of coils, steel plates, and iron plates. The information on electricity consumption is held in a cloud-based system. The information on energy consumption of the industry is stored on the website of the Korea Electric Power Corporation (pccs.kepco.go.kr), and the perspectives on daily, monthly, and annual data are calculated and shown.\n",
        "\n",
        "### 1.1. Attribute Information:\n",
        "\n",
        "* Date Continuous-time data taken on the first of the month\n",
        "* Usage_kWh Industry Energy Consumption Continuous kWh\n",
        "* Lagging Current reactive power Continuous kVarh\n",
        "* Leading Current reactive power Continuous kVarh\n",
        "* CO2 Continuous ppm\n",
        "* NSM Number of Seconds from midnight Continuous S\n",
        "* Week status Categorical (Weekend (0) or a Weekday(1))\n",
        "* Day of week Categorical Sunday, Monday : Saturday\n",
        "* Load Type Categorical Light Load, Medium Load, Maximum Load\n",
        "\n",
        "### 1.2. Acknowledgements\n",
        "\n",
        "This dataset is sourced from the UCI Machine Learning Repository\n",
        "\n",
        "### 1.3. Inspiration\n",
        "Which times of the year is the most energy consumed?\n",
        "What patterns can we identify in energy usage?"
      ],
      "metadata": {
        "id": "Scd8UQ578xLA"
      }
    },
    {
      "cell_type": "markdown",
      "source": [
        "## 2. Imports"
      ],
      "metadata": {
        "id": "nTPCRiUv8sio"
      }
    },
    {
      "cell_type": "code",
      "execution_count": 77,
      "metadata": {
        "colab": {
          "base_uri": "https://localhost:8080/"
        },
        "id": "AHfJqootUyIR",
        "outputId": "18b6fe33-c7b4-42e0-e007-8678aa685b3b"
      },
      "outputs": [
        {
          "output_type": "stream",
          "name": "stdout",
          "text": [
            "Cloning into 'Energy_consumption_steel_industry'...\n",
            "remote: Enumerating objects: 132, done.\u001b[K\n",
            "remote: Counting objects: 100% (132/132), done.\u001b[K\n",
            "remote: Compressing objects: 100% (128/128), done.\u001b[K\n",
            "remote: Total 132 (delta 53), reused 0 (delta 0), pack-reused 0 (from 0)\u001b[K\n",
            "Receiving objects: 100% (132/132), 1.32 MiB | 3.72 MiB/s, done.\n",
            "Resolving deltas: 100% (53/53), done.\n"
          ]
        }
      ],
      "source": [
        "!rm -rf /content/Energy_consumption_steel_industry\n",
        "\n",
        "! git clone https://github.com/xbadiam/Energy_consumption_steel_industry.git"
      ]
    },
    {
      "cell_type": "code",
      "source": [
        "!pip install skforecast[full]"
      ],
      "metadata": {
        "colab": {
          "base_uri": "https://localhost:8080/"
        },
        "id": "w3Y4RAXREGPS",
        "outputId": "2ae24290-3f83-40ce-833a-1411b0b937f9"
      },
      "execution_count": 176,
      "outputs": [
        {
          "output_type": "stream",
          "name": "stdout",
          "text": [
            "Requirement already satisfied: skforecast[full] in /usr/local/lib/python3.12/dist-packages (0.18.0)\n",
            "Requirement already satisfied: numpy>=1.24 in /usr/local/lib/python3.12/dist-packages (from skforecast[full]) (2.0.2)\n",
            "Requirement already satisfied: pandas>=1.5 in /usr/local/lib/python3.12/dist-packages (from skforecast[full]) (2.2.2)\n",
            "Requirement already satisfied: tqdm>=4.57 in /usr/local/lib/python3.12/dist-packages (from skforecast[full]) (4.67.1)\n",
            "Requirement already satisfied: scikit-learn>=1.2 in /usr/local/lib/python3.12/dist-packages (from skforecast[full]) (1.6.1)\n",
            "Requirement already satisfied: optuna>=2.10 in /usr/local/lib/python3.12/dist-packages (from skforecast[full]) (4.5.0)\n",
            "Requirement already satisfied: joblib>=1.1 in /usr/local/lib/python3.12/dist-packages (from skforecast[full]) (1.5.2)\n",
            "Requirement already satisfied: numba>=0.59 in /usr/local/lib/python3.12/dist-packages (from skforecast[full]) (0.60.0)\n",
            "Requirement already satisfied: rich>=13.9 in /usr/local/lib/python3.12/dist-packages (from skforecast[full]) (13.9.4)\n",
            "Requirement already satisfied: matplotlib<3.11,>=3.3 in /usr/local/lib/python3.12/dist-packages (from skforecast[full]) (3.10.0)\n",
            "Requirement already satisfied: seaborn<0.14,>=0.11 in /usr/local/lib/python3.12/dist-packages (from skforecast[full]) (0.13.2)\n",
            "Requirement already satisfied: statsmodels<0.15,>=0.12 in /usr/local/lib/python3.12/dist-packages (from skforecast[full]) (0.14.5)\n",
            "Requirement already satisfied: keras<4.0,>=3.0 in /usr/local/lib/python3.12/dist-packages (from skforecast[full]) (3.10.0)\n",
            "Requirement already satisfied: absl-py in /usr/local/lib/python3.12/dist-packages (from keras<4.0,>=3.0->skforecast[full]) (1.4.0)\n",
            "Requirement already satisfied: namex in /usr/local/lib/python3.12/dist-packages (from keras<4.0,>=3.0->skforecast[full]) (0.1.0)\n",
            "Requirement already satisfied: h5py in /usr/local/lib/python3.12/dist-packages (from keras<4.0,>=3.0->skforecast[full]) (3.15.1)\n",
            "Requirement already satisfied: optree in /usr/local/lib/python3.12/dist-packages (from keras<4.0,>=3.0->skforecast[full]) (0.17.0)\n",
            "Requirement already satisfied: ml-dtypes in /usr/local/lib/python3.12/dist-packages (from keras<4.0,>=3.0->skforecast[full]) (0.5.3)\n",
            "Requirement already satisfied: packaging in /usr/local/lib/python3.12/dist-packages (from keras<4.0,>=3.0->skforecast[full]) (25.0)\n",
            "Requirement already satisfied: contourpy>=1.0.1 in /usr/local/lib/python3.12/dist-packages (from matplotlib<3.11,>=3.3->skforecast[full]) (1.3.3)\n",
            "Requirement already satisfied: cycler>=0.10 in /usr/local/lib/python3.12/dist-packages (from matplotlib<3.11,>=3.3->skforecast[full]) (0.12.1)\n",
            "Requirement already satisfied: fonttools>=4.22.0 in /usr/local/lib/python3.12/dist-packages (from matplotlib<3.11,>=3.3->skforecast[full]) (4.60.1)\n",
            "Requirement already satisfied: kiwisolver>=1.3.1 in /usr/local/lib/python3.12/dist-packages (from matplotlib<3.11,>=3.3->skforecast[full]) (1.4.9)\n",
            "Requirement already satisfied: pillow>=8 in /usr/local/lib/python3.12/dist-packages (from matplotlib<3.11,>=3.3->skforecast[full]) (11.3.0)\n",
            "Requirement already satisfied: pyparsing>=2.3.1 in /usr/local/lib/python3.12/dist-packages (from matplotlib<3.11,>=3.3->skforecast[full]) (3.2.5)\n",
            "Requirement already satisfied: python-dateutil>=2.7 in /usr/local/lib/python3.12/dist-packages (from matplotlib<3.11,>=3.3->skforecast[full]) (2.9.0.post0)\n",
            "Requirement already satisfied: llvmlite<0.44,>=0.43.0dev0 in /usr/local/lib/python3.12/dist-packages (from numba>=0.59->skforecast[full]) (0.43.0)\n",
            "Requirement already satisfied: alembic>=1.5.0 in /usr/local/lib/python3.12/dist-packages (from optuna>=2.10->skforecast[full]) (1.17.0)\n",
            "Requirement already satisfied: colorlog in /usr/local/lib/python3.12/dist-packages (from optuna>=2.10->skforecast[full]) (6.10.1)\n",
            "Requirement already satisfied: sqlalchemy>=1.4.2 in /usr/local/lib/python3.12/dist-packages (from optuna>=2.10->skforecast[full]) (2.0.44)\n",
            "Requirement already satisfied: PyYAML in /usr/local/lib/python3.12/dist-packages (from optuna>=2.10->skforecast[full]) (6.0.3)\n",
            "Requirement already satisfied: pytz>=2020.1 in /usr/local/lib/python3.12/dist-packages (from pandas>=1.5->skforecast[full]) (2025.2)\n",
            "Requirement already satisfied: tzdata>=2022.7 in /usr/local/lib/python3.12/dist-packages (from pandas>=1.5->skforecast[full]) (2025.2)\n",
            "Requirement already satisfied: markdown-it-py>=2.2.0 in /usr/local/lib/python3.12/dist-packages (from rich>=13.9->skforecast[full]) (4.0.0)\n",
            "Requirement already satisfied: pygments<3.0.0,>=2.13.0 in /usr/local/lib/python3.12/dist-packages (from rich>=13.9->skforecast[full]) (2.19.2)\n",
            "Requirement already satisfied: scipy>=1.6.0 in /usr/local/lib/python3.12/dist-packages (from scikit-learn>=1.2->skforecast[full]) (1.16.2)\n",
            "Requirement already satisfied: threadpoolctl>=3.1.0 in /usr/local/lib/python3.12/dist-packages (from scikit-learn>=1.2->skforecast[full]) (3.6.0)\n",
            "Requirement already satisfied: patsy>=0.5.6 in /usr/local/lib/python3.12/dist-packages (from statsmodels<0.15,>=0.12->skforecast[full]) (1.0.2)\n",
            "Requirement already satisfied: Mako in /usr/local/lib/python3.12/dist-packages (from alembic>=1.5.0->optuna>=2.10->skforecast[full]) (1.3.10)\n",
            "Requirement already satisfied: typing-extensions>=4.12 in /usr/local/lib/python3.12/dist-packages (from alembic>=1.5.0->optuna>=2.10->skforecast[full]) (4.15.0)\n",
            "Requirement already satisfied: mdurl~=0.1 in /usr/local/lib/python3.12/dist-packages (from markdown-it-py>=2.2.0->rich>=13.9->skforecast[full]) (0.1.2)\n",
            "Requirement already satisfied: six>=1.5 in /usr/local/lib/python3.12/dist-packages (from python-dateutil>=2.7->matplotlib<3.11,>=3.3->skforecast[full]) (1.17.0)\n",
            "Requirement already satisfied: greenlet>=1 in /usr/local/lib/python3.12/dist-packages (from sqlalchemy>=1.4.2->optuna>=2.10->skforecast[full]) (3.2.4)\n",
            "Requirement already satisfied: MarkupSafe>=0.9.2 in /usr/local/lib/python3.12/dist-packages (from Mako->alembic>=1.5.0->optuna>=2.10->skforecast[full]) (3.0.3)\n"
          ]
        }
      ]
    },
    {
      "cell_type": "code",
      "source": [
        "try:\n",
        "  import skforecast\n",
        "  import skforecast.ForecasterAutoreg\n",
        "except:\n",
        "  !pip install skforecast\n",
        "  !pip install skforecast.ForecasterAutoreg\n",
        ""
      ],
      "metadata": {
        "id": "rKDXu9wVUQsq",
        "colab": {
          "base_uri": "https://localhost:8080/"
        },
        "outputId": "b786a082-d2de-46bf-c358-f4849c00f8cd"
      },
      "execution_count": 169,
      "outputs": [
        {
          "output_type": "stream",
          "name": "stdout",
          "text": [
            "Requirement already satisfied: skforecast in /usr/local/lib/python3.12/dist-packages (0.18.0)\n",
            "Requirement already satisfied: numpy>=1.24 in /usr/local/lib/python3.12/dist-packages (from skforecast) (2.0.2)\n",
            "Requirement already satisfied: pandas>=1.5 in /usr/local/lib/python3.12/dist-packages (from skforecast) (2.2.2)\n",
            "Requirement already satisfied: tqdm>=4.57 in /usr/local/lib/python3.12/dist-packages (from skforecast) (4.67.1)\n",
            "Requirement already satisfied: scikit-learn>=1.2 in /usr/local/lib/python3.12/dist-packages (from skforecast) (1.6.1)\n",
            "Requirement already satisfied: optuna>=2.10 in /usr/local/lib/python3.12/dist-packages (from skforecast) (4.5.0)\n",
            "Requirement already satisfied: joblib>=1.1 in /usr/local/lib/python3.12/dist-packages (from skforecast) (1.5.2)\n",
            "Requirement already satisfied: numba>=0.59 in /usr/local/lib/python3.12/dist-packages (from skforecast) (0.60.0)\n",
            "Requirement already satisfied: rich>=13.9 in /usr/local/lib/python3.12/dist-packages (from skforecast) (13.9.4)\n",
            "Requirement already satisfied: llvmlite<0.44,>=0.43.0dev0 in /usr/local/lib/python3.12/dist-packages (from numba>=0.59->skforecast) (0.43.0)\n",
            "Requirement already satisfied: alembic>=1.5.0 in /usr/local/lib/python3.12/dist-packages (from optuna>=2.10->skforecast) (1.17.0)\n",
            "Requirement already satisfied: colorlog in /usr/local/lib/python3.12/dist-packages (from optuna>=2.10->skforecast) (6.10.1)\n",
            "Requirement already satisfied: packaging>=20.0 in /usr/local/lib/python3.12/dist-packages (from optuna>=2.10->skforecast) (25.0)\n",
            "Requirement already satisfied: sqlalchemy>=1.4.2 in /usr/local/lib/python3.12/dist-packages (from optuna>=2.10->skforecast) (2.0.44)\n",
            "Requirement already satisfied: PyYAML in /usr/local/lib/python3.12/dist-packages (from optuna>=2.10->skforecast) (6.0.3)\n",
            "Requirement already satisfied: python-dateutil>=2.8.2 in /usr/local/lib/python3.12/dist-packages (from pandas>=1.5->skforecast) (2.9.0.post0)\n",
            "Requirement already satisfied: pytz>=2020.1 in /usr/local/lib/python3.12/dist-packages (from pandas>=1.5->skforecast) (2025.2)\n",
            "Requirement already satisfied: tzdata>=2022.7 in /usr/local/lib/python3.12/dist-packages (from pandas>=1.5->skforecast) (2025.2)\n",
            "Requirement already satisfied: markdown-it-py>=2.2.0 in /usr/local/lib/python3.12/dist-packages (from rich>=13.9->skforecast) (4.0.0)\n",
            "Requirement already satisfied: pygments<3.0.0,>=2.13.0 in /usr/local/lib/python3.12/dist-packages (from rich>=13.9->skforecast) (2.19.2)\n",
            "Requirement already satisfied: scipy>=1.6.0 in /usr/local/lib/python3.12/dist-packages (from scikit-learn>=1.2->skforecast) (1.16.2)\n",
            "Requirement already satisfied: threadpoolctl>=3.1.0 in /usr/local/lib/python3.12/dist-packages (from scikit-learn>=1.2->skforecast) (3.6.0)\n",
            "Requirement already satisfied: Mako in /usr/local/lib/python3.12/dist-packages (from alembic>=1.5.0->optuna>=2.10->skforecast) (1.3.10)\n",
            "Requirement already satisfied: typing-extensions>=4.12 in /usr/local/lib/python3.12/dist-packages (from alembic>=1.5.0->optuna>=2.10->skforecast) (4.15.0)\n",
            "Requirement already satisfied: mdurl~=0.1 in /usr/local/lib/python3.12/dist-packages (from markdown-it-py>=2.2.0->rich>=13.9->skforecast) (0.1.2)\n",
            "Requirement already satisfied: six>=1.5 in /usr/local/lib/python3.12/dist-packages (from python-dateutil>=2.8.2->pandas>=1.5->skforecast) (1.17.0)\n",
            "Requirement already satisfied: greenlet>=1 in /usr/local/lib/python3.12/dist-packages (from sqlalchemy>=1.4.2->optuna>=2.10->skforecast) (3.2.4)\n",
            "Requirement already satisfied: MarkupSafe>=0.9.2 in /usr/local/lib/python3.12/dist-packages (from Mako->alembic>=1.5.0->optuna>=2.10->skforecast) (3.0.3)\n",
            "\u001b[31mERROR: Could not find a version that satisfies the requirement skforecast.ForecasterAutoreg (from versions: none)\u001b[0m\u001b[31m\n",
            "\u001b[0m\u001b[31mERROR: No matching distribution found for skforecast.ForecasterAutoreg\u001b[0m\u001b[31m\n",
            "\u001b[0m"
          ]
        }
      ]
    },
    {
      "cell_type": "code",
      "source": [
        "# Data processing\n",
        "# ==============================================================================\n",
        "import pandas as pd\n",
        "import numpy as np\n",
        "import matplotlib.pyplot as plt\n",
        "%matplotlib inline\n",
        "import seaborn as sns\n",
        "\n",
        "\n",
        "# graphic\n",
        "# ==============================================================================\n",
        "import matplotlib.pyplot as plt\n",
        "import plotly.graph_objects as go\n",
        "import plotly.express as px\n",
        "import plotly.figure_factory as ff\n",
        "from plotly.subplots import make_subplots\n",
        "from statsmodels.graphics.tsaplots import plot_acf, plot_pacf\n",
        "\n",
        "# Modelado y Forecasting\n",
        "# ==============================================================================\n",
        "from lightgbm import LGBMRegressor\n",
        "import skforecast\n",
        "from skforecast.plot import calculate_lag_autocorrelation, plot_residuals\n",
        "from skforecast.recursive import ForecasterEquivalentDate, ForecasterRecursive\n",
        "from skforecast.model_selection import TimeSeriesFold, bayesian_search_forecaster, backtesting_forecaster\n",
        "from skforecast.preprocessing import RollingFeatures\n",
        "from statsmodels.tsa.stattools import kpss, adfuller\n",
        "from sklearn.ensemble import RandomForestRegressor\n"
      ],
      "metadata": {
        "id": "aN8eTAxlgtAX",
        "colab": {
          "base_uri": "https://localhost:8080/",
          "height": 366
        },
        "outputId": "ebb01106-95dc-439c-a7e8-525beb84ece6"
      },
      "execution_count": 179,
      "outputs": [
        {
          "output_type": "error",
          "ename": "ModuleNotFoundError",
          "evalue": "No module named 'skforecast.ForecasterAutoreg'",
          "traceback": [
            "\u001b[0;31m---------------------------------------------------------------------------\u001b[0m",
            "\u001b[0;31mModuleNotFoundError\u001b[0m                       Traceback (most recent call last)",
            "\u001b[0;32m/tmp/ipython-input-2781381287.py\u001b[0m in \u001b[0;36m<cell line: 0>\u001b[0;34m()\u001b[0m\n\u001b[1;32m     27\u001b[0m \u001b[0;32mfrom\u001b[0m \u001b[0mstatsmodels\u001b[0m\u001b[0;34m.\u001b[0m\u001b[0mtsa\u001b[0m\u001b[0;34m.\u001b[0m\u001b[0mstattools\u001b[0m \u001b[0;32mimport\u001b[0m \u001b[0mkpss\u001b[0m\u001b[0;34m,\u001b[0m \u001b[0madfuller\u001b[0m\u001b[0;34m\u001b[0m\u001b[0;34m\u001b[0m\u001b[0m\n\u001b[1;32m     28\u001b[0m \u001b[0;32mfrom\u001b[0m \u001b[0msklearn\u001b[0m\u001b[0;34m.\u001b[0m\u001b[0mensemble\u001b[0m \u001b[0;32mimport\u001b[0m \u001b[0mRandomForestRegressor\u001b[0m\u001b[0;34m\u001b[0m\u001b[0;34m\u001b[0m\u001b[0m\n\u001b[0;32m---> 29\u001b[0;31m \u001b[0;32mfrom\u001b[0m \u001b[0mskforecast\u001b[0m\u001b[0;34m.\u001b[0m\u001b[0mForecasterAutoreg\u001b[0m \u001b[0;32mimport\u001b[0m \u001b[0mForecasterAutoreg\u001b[0m\u001b[0;34m\u001b[0m\u001b[0;34m\u001b[0m\u001b[0m\n\u001b[0m\u001b[1;32m     30\u001b[0m \u001b[0;32mfrom\u001b[0m \u001b[0msklearn\u001b[0m\u001b[0;34m.\u001b[0m\u001b[0mensemble\u001b[0m \u001b[0;32mimport\u001b[0m \u001b[0mRandomForestRegressor\u001b[0m\u001b[0;34m\u001b[0m\u001b[0;34m\u001b[0m\u001b[0m\n",
            "\u001b[0;31mModuleNotFoundError\u001b[0m: No module named 'skforecast.ForecasterAutoreg'",
            "",
            "\u001b[0;31m---------------------------------------------------------------------------\u001b[0;32m\nNOTE: If your import is failing due to a missing package, you can\nmanually install dependencies using either !pip or !apt.\n\nTo view examples of installing some common dependencies, click the\n\"Open Examples\" button below.\n\u001b[0;31m---------------------------------------------------------------------------\u001b[0m\n"
          ],
          "errorDetails": {
            "actions": [
              {
                "action": "open_url",
                "actionText": "Open Examples",
                "url": "/notebooks/snippets/importing_libraries.ipynb"
              }
            ]
          }
        }
      ]
    },
    {
      "cell_type": "markdown",
      "source": [
        "## 2. Funtions\n"
      ],
      "metadata": {
        "id": "6ZgkDkyDvc3R"
      }
    },
    {
      "cell_type": "code",
      "source": [
        "# Function to run ADF Test and print results\n",
        "def adf_test(series):\n",
        "  ADF_result = adfuller(series)\n",
        "  print(f'p-value: {ADF_result[1]}')\n",
        "  if ADF_result[1] < 0.05:\n",
        "    print(f'ADF Statistic: {ADF_result[0]}')\n",
        "    print(\"The time series is stationary (we Reject the null hypothesis H0).\")\n",
        "  else:\n",
        "    print(\"The time series is non-stationary (we cannot reject the null hypothesis H0).\")\n",
        "  print('\\n')\n",
        "\n",
        "def kpss_test(series):\n",
        "  KPSS_result = kpss(series, regression='c', nlags=\"auto\")\n",
        "  print(f'p-value: {KPSS_result[1]}')\n",
        "  if KPSS_result[1] < 0.05:\n",
        "    print(\"The time series is not stationary (Reject H0).\")\n",
        "  else:\n",
        "    print(\"The time series is stationary (Fail to reject H0).\")\n",
        "  print('\\n')\n"
      ],
      "metadata": {
        "id": "VQTaWt7uwVft"
      },
      "execution_count": 101,
      "outputs": []
    },
    {
      "cell_type": "markdown",
      "source": [
        "## 3. Load data"
      ],
      "metadata": {
        "id": "nANe1CPT5d2o"
      }
    },
    {
      "cell_type": "code",
      "source": [
        "data = pd.read_csv('/content/Energy_consumption_steel_industry/inputs/Steel_industry_data.csv')\n"
      ],
      "metadata": {
        "id": "Qpgc05dWgs82"
      },
      "execution_count": 81,
      "outputs": []
    },
    {
      "cell_type": "code",
      "source": [
        "data.head(10)"
      ],
      "metadata": {
        "colab": {
          "base_uri": "https://localhost:8080/",
          "height": 556
        },
        "id": "8AibroU86aiE",
        "outputId": "d0d2c1ab-efc4-4412-b0b6-2ac7e6536a6f"
      },
      "execution_count": 82,
      "outputs": [
        {
          "output_type": "execute_result",
          "data": {
            "text/plain": [
              "               date  Usage_kWh  Lagging_Current_Reactive.Power_kVarh  \\\n",
              "0  01/01/2018 00:15       3.17                                  2.95   \n",
              "1  01/01/2018 00:30       4.00                                  4.46   \n",
              "2  01/01/2018 00:45       3.24                                  3.28   \n",
              "3  01/01/2018 01:00       3.31                                  3.56   \n",
              "4  01/01/2018 01:15       3.82                                  4.50   \n",
              "5  01/01/2018 01:30       3.28                                  3.56   \n",
              "6  01/01/2018 01:45       3.60                                  4.14   \n",
              "7  01/01/2018 02:00       3.60                                  4.28   \n",
              "8  01/01/2018 02:15       3.28                                  3.64   \n",
              "9  01/01/2018 02:30       3.78                                  4.72   \n",
              "\n",
              "   Leading_Current_Reactive_Power_kVarh  CO2(tCO2)  \\\n",
              "0                                   0.0        0.0   \n",
              "1                                   0.0        0.0   \n",
              "2                                   0.0        0.0   \n",
              "3                                   0.0        0.0   \n",
              "4                                   0.0        0.0   \n",
              "5                                   0.0        0.0   \n",
              "6                                   0.0        0.0   \n",
              "7                                   0.0        0.0   \n",
              "8                                   0.0        0.0   \n",
              "9                                   0.0        0.0   \n",
              "\n",
              "   Lagging_Current_Power_Factor  Leading_Current_Power_Factor   NSM  \\\n",
              "0                         73.21                         100.0   900   \n",
              "1                         66.77                         100.0  1800   \n",
              "2                         70.28                         100.0  2700   \n",
              "3                         68.09                         100.0  3600   \n",
              "4                         64.72                         100.0  4500   \n",
              "5                         67.76                         100.0  5400   \n",
              "6                         65.62                         100.0  6300   \n",
              "7                         64.37                         100.0  7200   \n",
              "8                         66.94                         100.0  8100   \n",
              "9                         62.51                         100.0  9000   \n",
              "\n",
              "  WeekStatus Day_of_week   Load_Type  \n",
              "0    Weekday      Monday  Light_Load  \n",
              "1    Weekday      Monday  Light_Load  \n",
              "2    Weekday      Monday  Light_Load  \n",
              "3    Weekday      Monday  Light_Load  \n",
              "4    Weekday      Monday  Light_Load  \n",
              "5    Weekday      Monday  Light_Load  \n",
              "6    Weekday      Monday  Light_Load  \n",
              "7    Weekday      Monday  Light_Load  \n",
              "8    Weekday      Monday  Light_Load  \n",
              "9    Weekday      Monday  Light_Load  "
            ],
            "text/html": [
              "\n",
              "  <div id=\"df-6bc9ca96-0fe3-469b-9249-c1a8a6b74fee\" class=\"colab-df-container\">\n",
              "    <div>\n",
              "<style scoped>\n",
              "    .dataframe tbody tr th:only-of-type {\n",
              "        vertical-align: middle;\n",
              "    }\n",
              "\n",
              "    .dataframe tbody tr th {\n",
              "        vertical-align: top;\n",
              "    }\n",
              "\n",
              "    .dataframe thead th {\n",
              "        text-align: right;\n",
              "    }\n",
              "</style>\n",
              "<table border=\"1\" class=\"dataframe\">\n",
              "  <thead>\n",
              "    <tr style=\"text-align: right;\">\n",
              "      <th></th>\n",
              "      <th>date</th>\n",
              "      <th>Usage_kWh</th>\n",
              "      <th>Lagging_Current_Reactive.Power_kVarh</th>\n",
              "      <th>Leading_Current_Reactive_Power_kVarh</th>\n",
              "      <th>CO2(tCO2)</th>\n",
              "      <th>Lagging_Current_Power_Factor</th>\n",
              "      <th>Leading_Current_Power_Factor</th>\n",
              "      <th>NSM</th>\n",
              "      <th>WeekStatus</th>\n",
              "      <th>Day_of_week</th>\n",
              "      <th>Load_Type</th>\n",
              "    </tr>\n",
              "  </thead>\n",
              "  <tbody>\n",
              "    <tr>\n",
              "      <th>0</th>\n",
              "      <td>01/01/2018 00:15</td>\n",
              "      <td>3.17</td>\n",
              "      <td>2.95</td>\n",
              "      <td>0.0</td>\n",
              "      <td>0.0</td>\n",
              "      <td>73.21</td>\n",
              "      <td>100.0</td>\n",
              "      <td>900</td>\n",
              "      <td>Weekday</td>\n",
              "      <td>Monday</td>\n",
              "      <td>Light_Load</td>\n",
              "    </tr>\n",
              "    <tr>\n",
              "      <th>1</th>\n",
              "      <td>01/01/2018 00:30</td>\n",
              "      <td>4.00</td>\n",
              "      <td>4.46</td>\n",
              "      <td>0.0</td>\n",
              "      <td>0.0</td>\n",
              "      <td>66.77</td>\n",
              "      <td>100.0</td>\n",
              "      <td>1800</td>\n",
              "      <td>Weekday</td>\n",
              "      <td>Monday</td>\n",
              "      <td>Light_Load</td>\n",
              "    </tr>\n",
              "    <tr>\n",
              "      <th>2</th>\n",
              "      <td>01/01/2018 00:45</td>\n",
              "      <td>3.24</td>\n",
              "      <td>3.28</td>\n",
              "      <td>0.0</td>\n",
              "      <td>0.0</td>\n",
              "      <td>70.28</td>\n",
              "      <td>100.0</td>\n",
              "      <td>2700</td>\n",
              "      <td>Weekday</td>\n",
              "      <td>Monday</td>\n",
              "      <td>Light_Load</td>\n",
              "    </tr>\n",
              "    <tr>\n",
              "      <th>3</th>\n",
              "      <td>01/01/2018 01:00</td>\n",
              "      <td>3.31</td>\n",
              "      <td>3.56</td>\n",
              "      <td>0.0</td>\n",
              "      <td>0.0</td>\n",
              "      <td>68.09</td>\n",
              "      <td>100.0</td>\n",
              "      <td>3600</td>\n",
              "      <td>Weekday</td>\n",
              "      <td>Monday</td>\n",
              "      <td>Light_Load</td>\n",
              "    </tr>\n",
              "    <tr>\n",
              "      <th>4</th>\n",
              "      <td>01/01/2018 01:15</td>\n",
              "      <td>3.82</td>\n",
              "      <td>4.50</td>\n",
              "      <td>0.0</td>\n",
              "      <td>0.0</td>\n",
              "      <td>64.72</td>\n",
              "      <td>100.0</td>\n",
              "      <td>4500</td>\n",
              "      <td>Weekday</td>\n",
              "      <td>Monday</td>\n",
              "      <td>Light_Load</td>\n",
              "    </tr>\n",
              "    <tr>\n",
              "      <th>5</th>\n",
              "      <td>01/01/2018 01:30</td>\n",
              "      <td>3.28</td>\n",
              "      <td>3.56</td>\n",
              "      <td>0.0</td>\n",
              "      <td>0.0</td>\n",
              "      <td>67.76</td>\n",
              "      <td>100.0</td>\n",
              "      <td>5400</td>\n",
              "      <td>Weekday</td>\n",
              "      <td>Monday</td>\n",
              "      <td>Light_Load</td>\n",
              "    </tr>\n",
              "    <tr>\n",
              "      <th>6</th>\n",
              "      <td>01/01/2018 01:45</td>\n",
              "      <td>3.60</td>\n",
              "      <td>4.14</td>\n",
              "      <td>0.0</td>\n",
              "      <td>0.0</td>\n",
              "      <td>65.62</td>\n",
              "      <td>100.0</td>\n",
              "      <td>6300</td>\n",
              "      <td>Weekday</td>\n",
              "      <td>Monday</td>\n",
              "      <td>Light_Load</td>\n",
              "    </tr>\n",
              "    <tr>\n",
              "      <th>7</th>\n",
              "      <td>01/01/2018 02:00</td>\n",
              "      <td>3.60</td>\n",
              "      <td>4.28</td>\n",
              "      <td>0.0</td>\n",
              "      <td>0.0</td>\n",
              "      <td>64.37</td>\n",
              "      <td>100.0</td>\n",
              "      <td>7200</td>\n",
              "      <td>Weekday</td>\n",
              "      <td>Monday</td>\n",
              "      <td>Light_Load</td>\n",
              "    </tr>\n",
              "    <tr>\n",
              "      <th>8</th>\n",
              "      <td>01/01/2018 02:15</td>\n",
              "      <td>3.28</td>\n",
              "      <td>3.64</td>\n",
              "      <td>0.0</td>\n",
              "      <td>0.0</td>\n",
              "      <td>66.94</td>\n",
              "      <td>100.0</td>\n",
              "      <td>8100</td>\n",
              "      <td>Weekday</td>\n",
              "      <td>Monday</td>\n",
              "      <td>Light_Load</td>\n",
              "    </tr>\n",
              "    <tr>\n",
              "      <th>9</th>\n",
              "      <td>01/01/2018 02:30</td>\n",
              "      <td>3.78</td>\n",
              "      <td>4.72</td>\n",
              "      <td>0.0</td>\n",
              "      <td>0.0</td>\n",
              "      <td>62.51</td>\n",
              "      <td>100.0</td>\n",
              "      <td>9000</td>\n",
              "      <td>Weekday</td>\n",
              "      <td>Monday</td>\n",
              "      <td>Light_Load</td>\n",
              "    </tr>\n",
              "  </tbody>\n",
              "</table>\n",
              "</div>\n",
              "    <div class=\"colab-df-buttons\">\n",
              "\n",
              "  <div class=\"colab-df-container\">\n",
              "    <button class=\"colab-df-convert\" onclick=\"convertToInteractive('df-6bc9ca96-0fe3-469b-9249-c1a8a6b74fee')\"\n",
              "            title=\"Convert this dataframe to an interactive table.\"\n",
              "            style=\"display:none;\">\n",
              "\n",
              "  <svg xmlns=\"http://www.w3.org/2000/svg\" height=\"24px\" viewBox=\"0 -960 960 960\">\n",
              "    <path d=\"M120-120v-720h720v720H120Zm60-500h600v-160H180v160Zm220 220h160v-160H400v160Zm0 220h160v-160H400v160ZM180-400h160v-160H180v160Zm440 0h160v-160H620v160ZM180-180h160v-160H180v160Zm440 0h160v-160H620v160Z\"/>\n",
              "  </svg>\n",
              "    </button>\n",
              "\n",
              "  <style>\n",
              "    .colab-df-container {\n",
              "      display:flex;\n",
              "      gap: 12px;\n",
              "    }\n",
              "\n",
              "    .colab-df-convert {\n",
              "      background-color: #E8F0FE;\n",
              "      border: none;\n",
              "      border-radius: 50%;\n",
              "      cursor: pointer;\n",
              "      display: none;\n",
              "      fill: #1967D2;\n",
              "      height: 32px;\n",
              "      padding: 0 0 0 0;\n",
              "      width: 32px;\n",
              "    }\n",
              "\n",
              "    .colab-df-convert:hover {\n",
              "      background-color: #E2EBFA;\n",
              "      box-shadow: 0px 1px 2px rgba(60, 64, 67, 0.3), 0px 1px 3px 1px rgba(60, 64, 67, 0.15);\n",
              "      fill: #174EA6;\n",
              "    }\n",
              "\n",
              "    .colab-df-buttons div {\n",
              "      margin-bottom: 4px;\n",
              "    }\n",
              "\n",
              "    [theme=dark] .colab-df-convert {\n",
              "      background-color: #3B4455;\n",
              "      fill: #D2E3FC;\n",
              "    }\n",
              "\n",
              "    [theme=dark] .colab-df-convert:hover {\n",
              "      background-color: #434B5C;\n",
              "      box-shadow: 0px 1px 3px 1px rgba(0, 0, 0, 0.15);\n",
              "      filter: drop-shadow(0px 1px 2px rgba(0, 0, 0, 0.3));\n",
              "      fill: #FFFFFF;\n",
              "    }\n",
              "  </style>\n",
              "\n",
              "    <script>\n",
              "      const buttonEl =\n",
              "        document.querySelector('#df-6bc9ca96-0fe3-469b-9249-c1a8a6b74fee button.colab-df-convert');\n",
              "      buttonEl.style.display =\n",
              "        google.colab.kernel.accessAllowed ? 'block' : 'none';\n",
              "\n",
              "      async function convertToInteractive(key) {\n",
              "        const element = document.querySelector('#df-6bc9ca96-0fe3-469b-9249-c1a8a6b74fee');\n",
              "        const dataTable =\n",
              "          await google.colab.kernel.invokeFunction('convertToInteractive',\n",
              "                                                    [key], {});\n",
              "        if (!dataTable) return;\n",
              "\n",
              "        const docLinkHtml = 'Like what you see? Visit the ' +\n",
              "          '<a target=\"_blank\" href=https://colab.research.google.com/notebooks/data_table.ipynb>data table notebook</a>'\n",
              "          + ' to learn more about interactive tables.';\n",
              "        element.innerHTML = '';\n",
              "        dataTable['output_type'] = 'display_data';\n",
              "        await google.colab.output.renderOutput(dataTable, element);\n",
              "        const docLink = document.createElement('div');\n",
              "        docLink.innerHTML = docLinkHtml;\n",
              "        element.appendChild(docLink);\n",
              "      }\n",
              "    </script>\n",
              "  </div>\n",
              "\n",
              "\n",
              "    <div id=\"df-450e046c-2b7a-4e0d-9777-4b7463f416c7\">\n",
              "      <button class=\"colab-df-quickchart\" onclick=\"quickchart('df-450e046c-2b7a-4e0d-9777-4b7463f416c7')\"\n",
              "                title=\"Suggest charts\"\n",
              "                style=\"display:none;\">\n",
              "\n",
              "<svg xmlns=\"http://www.w3.org/2000/svg\" height=\"24px\"viewBox=\"0 0 24 24\"\n",
              "     width=\"24px\">\n",
              "    <g>\n",
              "        <path d=\"M19 3H5c-1.1 0-2 .9-2 2v14c0 1.1.9 2 2 2h14c1.1 0 2-.9 2-2V5c0-1.1-.9-2-2-2zM9 17H7v-7h2v7zm4 0h-2V7h2v10zm4 0h-2v-4h2v4z\"/>\n",
              "    </g>\n",
              "</svg>\n",
              "      </button>\n",
              "\n",
              "<style>\n",
              "  .colab-df-quickchart {\n",
              "      --bg-color: #E8F0FE;\n",
              "      --fill-color: #1967D2;\n",
              "      --hover-bg-color: #E2EBFA;\n",
              "      --hover-fill-color: #174EA6;\n",
              "      --disabled-fill-color: #AAA;\n",
              "      --disabled-bg-color: #DDD;\n",
              "  }\n",
              "\n",
              "  [theme=dark] .colab-df-quickchart {\n",
              "      --bg-color: #3B4455;\n",
              "      --fill-color: #D2E3FC;\n",
              "      --hover-bg-color: #434B5C;\n",
              "      --hover-fill-color: #FFFFFF;\n",
              "      --disabled-bg-color: #3B4455;\n",
              "      --disabled-fill-color: #666;\n",
              "  }\n",
              "\n",
              "  .colab-df-quickchart {\n",
              "    background-color: var(--bg-color);\n",
              "    border: none;\n",
              "    border-radius: 50%;\n",
              "    cursor: pointer;\n",
              "    display: none;\n",
              "    fill: var(--fill-color);\n",
              "    height: 32px;\n",
              "    padding: 0;\n",
              "    width: 32px;\n",
              "  }\n",
              "\n",
              "  .colab-df-quickchart:hover {\n",
              "    background-color: var(--hover-bg-color);\n",
              "    box-shadow: 0 1px 2px rgba(60, 64, 67, 0.3), 0 1px 3px 1px rgba(60, 64, 67, 0.15);\n",
              "    fill: var(--button-hover-fill-color);\n",
              "  }\n",
              "\n",
              "  .colab-df-quickchart-complete:disabled,\n",
              "  .colab-df-quickchart-complete:disabled:hover {\n",
              "    background-color: var(--disabled-bg-color);\n",
              "    fill: var(--disabled-fill-color);\n",
              "    box-shadow: none;\n",
              "  }\n",
              "\n",
              "  .colab-df-spinner {\n",
              "    border: 2px solid var(--fill-color);\n",
              "    border-color: transparent;\n",
              "    border-bottom-color: var(--fill-color);\n",
              "    animation:\n",
              "      spin 1s steps(1) infinite;\n",
              "  }\n",
              "\n",
              "  @keyframes spin {\n",
              "    0% {\n",
              "      border-color: transparent;\n",
              "      border-bottom-color: var(--fill-color);\n",
              "      border-left-color: var(--fill-color);\n",
              "    }\n",
              "    20% {\n",
              "      border-color: transparent;\n",
              "      border-left-color: var(--fill-color);\n",
              "      border-top-color: var(--fill-color);\n",
              "    }\n",
              "    30% {\n",
              "      border-color: transparent;\n",
              "      border-left-color: var(--fill-color);\n",
              "      border-top-color: var(--fill-color);\n",
              "      border-right-color: var(--fill-color);\n",
              "    }\n",
              "    40% {\n",
              "      border-color: transparent;\n",
              "      border-right-color: var(--fill-color);\n",
              "      border-top-color: var(--fill-color);\n",
              "    }\n",
              "    60% {\n",
              "      border-color: transparent;\n",
              "      border-right-color: var(--fill-color);\n",
              "    }\n",
              "    80% {\n",
              "      border-color: transparent;\n",
              "      border-right-color: var(--fill-color);\n",
              "      border-bottom-color: var(--fill-color);\n",
              "    }\n",
              "    90% {\n",
              "      border-color: transparent;\n",
              "      border-bottom-color: var(--fill-color);\n",
              "    }\n",
              "  }\n",
              "</style>\n",
              "\n",
              "      <script>\n",
              "        async function quickchart(key) {\n",
              "          const quickchartButtonEl =\n",
              "            document.querySelector('#' + key + ' button');\n",
              "          quickchartButtonEl.disabled = true;  // To prevent multiple clicks.\n",
              "          quickchartButtonEl.classList.add('colab-df-spinner');\n",
              "          try {\n",
              "            const charts = await google.colab.kernel.invokeFunction(\n",
              "                'suggestCharts', [key], {});\n",
              "          } catch (error) {\n",
              "            console.error('Error during call to suggestCharts:', error);\n",
              "          }\n",
              "          quickchartButtonEl.classList.remove('colab-df-spinner');\n",
              "          quickchartButtonEl.classList.add('colab-df-quickchart-complete');\n",
              "        }\n",
              "        (() => {\n",
              "          let quickchartButtonEl =\n",
              "            document.querySelector('#df-450e046c-2b7a-4e0d-9777-4b7463f416c7 button');\n",
              "          quickchartButtonEl.style.display =\n",
              "            google.colab.kernel.accessAllowed ? 'block' : 'none';\n",
              "        })();\n",
              "      </script>\n",
              "    </div>\n",
              "\n",
              "    </div>\n",
              "  </div>\n"
            ],
            "application/vnd.google.colaboratory.intrinsic+json": {
              "type": "dataframe",
              "variable_name": "data",
              "summary": "{\n  \"name\": \"data\",\n  \"rows\": 35040,\n  \"fields\": [\n    {\n      \"column\": \"date\",\n      \"properties\": {\n        \"dtype\": \"string\",\n        \"num_unique_values\": 35040,\n        \"samples\": [\n          \"29/04/2018 07:15\",\n          \"04/10/2018 12:00\",\n          \"26/01/2018 11:30\"\n        ],\n        \"semantic_type\": \"\",\n        \"description\": \"\"\n      }\n    },\n    {\n      \"column\": \"Usage_kWh\",\n      \"properties\": {\n        \"dtype\": \"number\",\n        \"std\": 33.44437970801463,\n        \"min\": 0.0,\n        \"max\": 157.18,\n        \"num_unique_values\": 3343,\n        \"samples\": [\n          12.02,\n          28.51,\n          77.18\n        ],\n        \"semantic_type\": \"\",\n        \"description\": \"\"\n      }\n    },\n    {\n      \"column\": \"Lagging_Current_Reactive.Power_kVarh\",\n      \"properties\": {\n        \"dtype\": \"number\",\n        \"std\": 16.305999973081395,\n        \"min\": 0.0,\n        \"max\": 96.91,\n        \"num_unique_values\": 1954,\n        \"samples\": [\n          20.88,\n          69.84,\n          7.02\n        ],\n        \"semantic_type\": \"\",\n        \"description\": \"\"\n      }\n    },\n    {\n      \"column\": \"Leading_Current_Reactive_Power_kVarh\",\n      \"properties\": {\n        \"dtype\": \"number\",\n        \"std\": 7.424462753105592,\n        \"min\": 0.0,\n        \"max\": 27.76,\n        \"num_unique_values\": 768,\n        \"samples\": [\n          21.06,\n          23.04,\n          13.61\n        ],\n        \"semantic_type\": \"\",\n        \"description\": \"\"\n      }\n    },\n    {\n      \"column\": \"CO2(tCO2)\",\n      \"properties\": {\n        \"dtype\": \"number\",\n        \"std\": 0.01615082153443048,\n        \"min\": 0.0,\n        \"max\": 0.07,\n        \"num_unique_values\": 8,\n        \"samples\": [\n          0.02,\n          0.04,\n          0.0\n        ],\n        \"semantic_type\": \"\",\n        \"description\": \"\"\n      }\n    },\n    {\n      \"column\": \"Lagging_Current_Power_Factor\",\n      \"properties\": {\n        \"dtype\": \"number\",\n        \"std\": 18.92132226781833,\n        \"min\": 0.0,\n        \"max\": 100.0,\n        \"num_unique_values\": 5079,\n        \"samples\": [\n          77.48,\n          46.28,\n          100.0\n        ],\n        \"semantic_type\": \"\",\n        \"description\": \"\"\n      }\n    },\n    {\n      \"column\": \"Leading_Current_Power_Factor\",\n      \"properties\": {\n        \"dtype\": \"number\",\n        \"std\": 30.456535157583907,\n        \"min\": 0.0,\n        \"max\": 100.0,\n        \"num_unique_values\": 3366,\n        \"samples\": [\n          97.26,\n          54.38,\n          19.51\n        ],\n        \"semantic_type\": \"\",\n        \"description\": \"\"\n      }\n    },\n    {\n      \"column\": \"NSM\",\n      \"properties\": {\n        \"dtype\": \"number\",\n        \"std\": 24940,\n        \"min\": 0,\n        \"max\": 85500,\n        \"num_unique_values\": 96,\n        \"samples\": [\n          72900,\n          70200,\n          66600\n        ],\n        \"semantic_type\": \"\",\n        \"description\": \"\"\n      }\n    },\n    {\n      \"column\": \"WeekStatus\",\n      \"properties\": {\n        \"dtype\": \"category\",\n        \"num_unique_values\": 2,\n        \"samples\": [\n          \"Weekend\",\n          \"Weekday\"\n        ],\n        \"semantic_type\": \"\",\n        \"description\": \"\"\n      }\n    },\n    {\n      \"column\": \"Day_of_week\",\n      \"properties\": {\n        \"dtype\": \"category\",\n        \"num_unique_values\": 7,\n        \"samples\": [\n          \"Monday\",\n          \"Tuesday\"\n        ],\n        \"semantic_type\": \"\",\n        \"description\": \"\"\n      }\n    },\n    {\n      \"column\": \"Load_Type\",\n      \"properties\": {\n        \"dtype\": \"category\",\n        \"num_unique_values\": 3,\n        \"samples\": [\n          \"Light_Load\",\n          \"Medium_Load\"\n        ],\n        \"semantic_type\": \"\",\n        \"description\": \"\"\n      }\n    }\n  ]\n}"
            }
          },
          "metadata": {},
          "execution_count": 82
        }
      ]
    },
    {
      "cell_type": "code",
      "source": [
        "# Dataset information\n",
        "data.info()\n"
      ],
      "metadata": {
        "colab": {
          "base_uri": "https://localhost:8080/"
        },
        "id": "A7WVXctwMt6o",
        "outputId": "8eb33ae1-f36f-42e0-a536-c3019e6abcf2"
      },
      "execution_count": 83,
      "outputs": [
        {
          "output_type": "stream",
          "name": "stdout",
          "text": [
            "<class 'pandas.core.frame.DataFrame'>\n",
            "RangeIndex: 35040 entries, 0 to 35039\n",
            "Data columns (total 11 columns):\n",
            " #   Column                                Non-Null Count  Dtype  \n",
            "---  ------                                --------------  -----  \n",
            " 0   date                                  35040 non-null  object \n",
            " 1   Usage_kWh                             35040 non-null  float64\n",
            " 2   Lagging_Current_Reactive.Power_kVarh  35040 non-null  float64\n",
            " 3   Leading_Current_Reactive_Power_kVarh  35040 non-null  float64\n",
            " 4   CO2(tCO2)                             35040 non-null  float64\n",
            " 5   Lagging_Current_Power_Factor          35040 non-null  float64\n",
            " 6   Leading_Current_Power_Factor          35040 non-null  float64\n",
            " 7   NSM                                   35040 non-null  int64  \n",
            " 8   WeekStatus                            35040 non-null  object \n",
            " 9   Day_of_week                           35040 non-null  object \n",
            " 10  Load_Type                             35040 non-null  object \n",
            "dtypes: float64(6), int64(1), object(4)\n",
            "memory usage: 2.9+ MB\n"
          ]
        }
      ]
    },
    {
      "cell_type": "code",
      "source": [
        "# Statistical summary\n",
        "print('Statistical Summary of Numerical Features:')\n",
        "print('-' * 50)\n",
        "data.describe().T"
      ],
      "metadata": {
        "colab": {
          "base_uri": "https://localhost:8080/",
          "height": 303
        },
        "id": "kIgCnAnENcqU",
        "outputId": "fe8be62f-f49d-4ce4-9f73-97ee39b33330"
      },
      "execution_count": 84,
      "outputs": [
        {
          "output_type": "stream",
          "name": "stdout",
          "text": [
            "Statistical Summary of Numerical Features:\n",
            "--------------------------------------------------\n"
          ]
        },
        {
          "output_type": "execute_result",
          "data": {
            "text/plain": [
              "                                        count          mean           std  \\\n",
              "Usage_kWh                             35040.0     27.386892     33.444380   \n",
              "Lagging_Current_Reactive.Power_kVarh  35040.0     13.035384     16.306000   \n",
              "Leading_Current_Reactive_Power_kVarh  35040.0      3.870949      7.424463   \n",
              "CO2(tCO2)                             35040.0      0.011524      0.016151   \n",
              "Lagging_Current_Power_Factor          35040.0     80.578056     18.921322   \n",
              "Leading_Current_Power_Factor          35040.0     84.367870     30.456535   \n",
              "NSM                                   35040.0  42750.000000  24940.534317   \n",
              "\n",
              "                                      min       25%       50%         75%  \\\n",
              "Usage_kWh                             0.0      3.20      4.57     51.2375   \n",
              "Lagging_Current_Reactive.Power_kVarh  0.0      2.30      5.00     22.6400   \n",
              "Leading_Current_Reactive_Power_kVarh  0.0      0.00      0.00      2.0900   \n",
              "CO2(tCO2)                             0.0      0.00      0.00      0.0200   \n",
              "Lagging_Current_Power_Factor          0.0     63.32     87.96     99.0225   \n",
              "Leading_Current_Power_Factor          0.0     99.70    100.00    100.0000   \n",
              "NSM                                   0.0  21375.00  42750.00  64125.0000   \n",
              "\n",
              "                                           max  \n",
              "Usage_kWh                               157.18  \n",
              "Lagging_Current_Reactive.Power_kVarh     96.91  \n",
              "Leading_Current_Reactive_Power_kVarh     27.76  \n",
              "CO2(tCO2)                                 0.07  \n",
              "Lagging_Current_Power_Factor            100.00  \n",
              "Leading_Current_Power_Factor            100.00  \n",
              "NSM                                   85500.00  "
            ],
            "text/html": [
              "\n",
              "  <div id=\"df-60adde53-da39-4a2c-9c3d-fb9cc7acf270\" class=\"colab-df-container\">\n",
              "    <div>\n",
              "<style scoped>\n",
              "    .dataframe tbody tr th:only-of-type {\n",
              "        vertical-align: middle;\n",
              "    }\n",
              "\n",
              "    .dataframe tbody tr th {\n",
              "        vertical-align: top;\n",
              "    }\n",
              "\n",
              "    .dataframe thead th {\n",
              "        text-align: right;\n",
              "    }\n",
              "</style>\n",
              "<table border=\"1\" class=\"dataframe\">\n",
              "  <thead>\n",
              "    <tr style=\"text-align: right;\">\n",
              "      <th></th>\n",
              "      <th>count</th>\n",
              "      <th>mean</th>\n",
              "      <th>std</th>\n",
              "      <th>min</th>\n",
              "      <th>25%</th>\n",
              "      <th>50%</th>\n",
              "      <th>75%</th>\n",
              "      <th>max</th>\n",
              "    </tr>\n",
              "  </thead>\n",
              "  <tbody>\n",
              "    <tr>\n",
              "      <th>Usage_kWh</th>\n",
              "      <td>35040.0</td>\n",
              "      <td>27.386892</td>\n",
              "      <td>33.444380</td>\n",
              "      <td>0.0</td>\n",
              "      <td>3.20</td>\n",
              "      <td>4.57</td>\n",
              "      <td>51.2375</td>\n",
              "      <td>157.18</td>\n",
              "    </tr>\n",
              "    <tr>\n",
              "      <th>Lagging_Current_Reactive.Power_kVarh</th>\n",
              "      <td>35040.0</td>\n",
              "      <td>13.035384</td>\n",
              "      <td>16.306000</td>\n",
              "      <td>0.0</td>\n",
              "      <td>2.30</td>\n",
              "      <td>5.00</td>\n",
              "      <td>22.6400</td>\n",
              "      <td>96.91</td>\n",
              "    </tr>\n",
              "    <tr>\n",
              "      <th>Leading_Current_Reactive_Power_kVarh</th>\n",
              "      <td>35040.0</td>\n",
              "      <td>3.870949</td>\n",
              "      <td>7.424463</td>\n",
              "      <td>0.0</td>\n",
              "      <td>0.00</td>\n",
              "      <td>0.00</td>\n",
              "      <td>2.0900</td>\n",
              "      <td>27.76</td>\n",
              "    </tr>\n",
              "    <tr>\n",
              "      <th>CO2(tCO2)</th>\n",
              "      <td>35040.0</td>\n",
              "      <td>0.011524</td>\n",
              "      <td>0.016151</td>\n",
              "      <td>0.0</td>\n",
              "      <td>0.00</td>\n",
              "      <td>0.00</td>\n",
              "      <td>0.0200</td>\n",
              "      <td>0.07</td>\n",
              "    </tr>\n",
              "    <tr>\n",
              "      <th>Lagging_Current_Power_Factor</th>\n",
              "      <td>35040.0</td>\n",
              "      <td>80.578056</td>\n",
              "      <td>18.921322</td>\n",
              "      <td>0.0</td>\n",
              "      <td>63.32</td>\n",
              "      <td>87.96</td>\n",
              "      <td>99.0225</td>\n",
              "      <td>100.00</td>\n",
              "    </tr>\n",
              "    <tr>\n",
              "      <th>Leading_Current_Power_Factor</th>\n",
              "      <td>35040.0</td>\n",
              "      <td>84.367870</td>\n",
              "      <td>30.456535</td>\n",
              "      <td>0.0</td>\n",
              "      <td>99.70</td>\n",
              "      <td>100.00</td>\n",
              "      <td>100.0000</td>\n",
              "      <td>100.00</td>\n",
              "    </tr>\n",
              "    <tr>\n",
              "      <th>NSM</th>\n",
              "      <td>35040.0</td>\n",
              "      <td>42750.000000</td>\n",
              "      <td>24940.534317</td>\n",
              "      <td>0.0</td>\n",
              "      <td>21375.00</td>\n",
              "      <td>42750.00</td>\n",
              "      <td>64125.0000</td>\n",
              "      <td>85500.00</td>\n",
              "    </tr>\n",
              "  </tbody>\n",
              "</table>\n",
              "</div>\n",
              "    <div class=\"colab-df-buttons\">\n",
              "\n",
              "  <div class=\"colab-df-container\">\n",
              "    <button class=\"colab-df-convert\" onclick=\"convertToInteractive('df-60adde53-da39-4a2c-9c3d-fb9cc7acf270')\"\n",
              "            title=\"Convert this dataframe to an interactive table.\"\n",
              "            style=\"display:none;\">\n",
              "\n",
              "  <svg xmlns=\"http://www.w3.org/2000/svg\" height=\"24px\" viewBox=\"0 -960 960 960\">\n",
              "    <path d=\"M120-120v-720h720v720H120Zm60-500h600v-160H180v160Zm220 220h160v-160H400v160Zm0 220h160v-160H400v160ZM180-400h160v-160H180v160Zm440 0h160v-160H620v160ZM180-180h160v-160H180v160Zm440 0h160v-160H620v160Z\"/>\n",
              "  </svg>\n",
              "    </button>\n",
              "\n",
              "  <style>\n",
              "    .colab-df-container {\n",
              "      display:flex;\n",
              "      gap: 12px;\n",
              "    }\n",
              "\n",
              "    .colab-df-convert {\n",
              "      background-color: #E8F0FE;\n",
              "      border: none;\n",
              "      border-radius: 50%;\n",
              "      cursor: pointer;\n",
              "      display: none;\n",
              "      fill: #1967D2;\n",
              "      height: 32px;\n",
              "      padding: 0 0 0 0;\n",
              "      width: 32px;\n",
              "    }\n",
              "\n",
              "    .colab-df-convert:hover {\n",
              "      background-color: #E2EBFA;\n",
              "      box-shadow: 0px 1px 2px rgba(60, 64, 67, 0.3), 0px 1px 3px 1px rgba(60, 64, 67, 0.15);\n",
              "      fill: #174EA6;\n",
              "    }\n",
              "\n",
              "    .colab-df-buttons div {\n",
              "      margin-bottom: 4px;\n",
              "    }\n",
              "\n",
              "    [theme=dark] .colab-df-convert {\n",
              "      background-color: #3B4455;\n",
              "      fill: #D2E3FC;\n",
              "    }\n",
              "\n",
              "    [theme=dark] .colab-df-convert:hover {\n",
              "      background-color: #434B5C;\n",
              "      box-shadow: 0px 1px 3px 1px rgba(0, 0, 0, 0.15);\n",
              "      filter: drop-shadow(0px 1px 2px rgba(0, 0, 0, 0.3));\n",
              "      fill: #FFFFFF;\n",
              "    }\n",
              "  </style>\n",
              "\n",
              "    <script>\n",
              "      const buttonEl =\n",
              "        document.querySelector('#df-60adde53-da39-4a2c-9c3d-fb9cc7acf270 button.colab-df-convert');\n",
              "      buttonEl.style.display =\n",
              "        google.colab.kernel.accessAllowed ? 'block' : 'none';\n",
              "\n",
              "      async function convertToInteractive(key) {\n",
              "        const element = document.querySelector('#df-60adde53-da39-4a2c-9c3d-fb9cc7acf270');\n",
              "        const dataTable =\n",
              "          await google.colab.kernel.invokeFunction('convertToInteractive',\n",
              "                                                    [key], {});\n",
              "        if (!dataTable) return;\n",
              "\n",
              "        const docLinkHtml = 'Like what you see? Visit the ' +\n",
              "          '<a target=\"_blank\" href=https://colab.research.google.com/notebooks/data_table.ipynb>data table notebook</a>'\n",
              "          + ' to learn more about interactive tables.';\n",
              "        element.innerHTML = '';\n",
              "        dataTable['output_type'] = 'display_data';\n",
              "        await google.colab.output.renderOutput(dataTable, element);\n",
              "        const docLink = document.createElement('div');\n",
              "        docLink.innerHTML = docLinkHtml;\n",
              "        element.appendChild(docLink);\n",
              "      }\n",
              "    </script>\n",
              "  </div>\n",
              "\n",
              "\n",
              "    <div id=\"df-148cabd0-221c-4132-ba7e-692b2ad082fc\">\n",
              "      <button class=\"colab-df-quickchart\" onclick=\"quickchart('df-148cabd0-221c-4132-ba7e-692b2ad082fc')\"\n",
              "                title=\"Suggest charts\"\n",
              "                style=\"display:none;\">\n",
              "\n",
              "<svg xmlns=\"http://www.w3.org/2000/svg\" height=\"24px\"viewBox=\"0 0 24 24\"\n",
              "     width=\"24px\">\n",
              "    <g>\n",
              "        <path d=\"M19 3H5c-1.1 0-2 .9-2 2v14c0 1.1.9 2 2 2h14c1.1 0 2-.9 2-2V5c0-1.1-.9-2-2-2zM9 17H7v-7h2v7zm4 0h-2V7h2v10zm4 0h-2v-4h2v4z\"/>\n",
              "    </g>\n",
              "</svg>\n",
              "      </button>\n",
              "\n",
              "<style>\n",
              "  .colab-df-quickchart {\n",
              "      --bg-color: #E8F0FE;\n",
              "      --fill-color: #1967D2;\n",
              "      --hover-bg-color: #E2EBFA;\n",
              "      --hover-fill-color: #174EA6;\n",
              "      --disabled-fill-color: #AAA;\n",
              "      --disabled-bg-color: #DDD;\n",
              "  }\n",
              "\n",
              "  [theme=dark] .colab-df-quickchart {\n",
              "      --bg-color: #3B4455;\n",
              "      --fill-color: #D2E3FC;\n",
              "      --hover-bg-color: #434B5C;\n",
              "      --hover-fill-color: #FFFFFF;\n",
              "      --disabled-bg-color: #3B4455;\n",
              "      --disabled-fill-color: #666;\n",
              "  }\n",
              "\n",
              "  .colab-df-quickchart {\n",
              "    background-color: var(--bg-color);\n",
              "    border: none;\n",
              "    border-radius: 50%;\n",
              "    cursor: pointer;\n",
              "    display: none;\n",
              "    fill: var(--fill-color);\n",
              "    height: 32px;\n",
              "    padding: 0;\n",
              "    width: 32px;\n",
              "  }\n",
              "\n",
              "  .colab-df-quickchart:hover {\n",
              "    background-color: var(--hover-bg-color);\n",
              "    box-shadow: 0 1px 2px rgba(60, 64, 67, 0.3), 0 1px 3px 1px rgba(60, 64, 67, 0.15);\n",
              "    fill: var(--button-hover-fill-color);\n",
              "  }\n",
              "\n",
              "  .colab-df-quickchart-complete:disabled,\n",
              "  .colab-df-quickchart-complete:disabled:hover {\n",
              "    background-color: var(--disabled-bg-color);\n",
              "    fill: var(--disabled-fill-color);\n",
              "    box-shadow: none;\n",
              "  }\n",
              "\n",
              "  .colab-df-spinner {\n",
              "    border: 2px solid var(--fill-color);\n",
              "    border-color: transparent;\n",
              "    border-bottom-color: var(--fill-color);\n",
              "    animation:\n",
              "      spin 1s steps(1) infinite;\n",
              "  }\n",
              "\n",
              "  @keyframes spin {\n",
              "    0% {\n",
              "      border-color: transparent;\n",
              "      border-bottom-color: var(--fill-color);\n",
              "      border-left-color: var(--fill-color);\n",
              "    }\n",
              "    20% {\n",
              "      border-color: transparent;\n",
              "      border-left-color: var(--fill-color);\n",
              "      border-top-color: var(--fill-color);\n",
              "    }\n",
              "    30% {\n",
              "      border-color: transparent;\n",
              "      border-left-color: var(--fill-color);\n",
              "      border-top-color: var(--fill-color);\n",
              "      border-right-color: var(--fill-color);\n",
              "    }\n",
              "    40% {\n",
              "      border-color: transparent;\n",
              "      border-right-color: var(--fill-color);\n",
              "      border-top-color: var(--fill-color);\n",
              "    }\n",
              "    60% {\n",
              "      border-color: transparent;\n",
              "      border-right-color: var(--fill-color);\n",
              "    }\n",
              "    80% {\n",
              "      border-color: transparent;\n",
              "      border-right-color: var(--fill-color);\n",
              "      border-bottom-color: var(--fill-color);\n",
              "    }\n",
              "    90% {\n",
              "      border-color: transparent;\n",
              "      border-bottom-color: var(--fill-color);\n",
              "    }\n",
              "  }\n",
              "</style>\n",
              "\n",
              "      <script>\n",
              "        async function quickchart(key) {\n",
              "          const quickchartButtonEl =\n",
              "            document.querySelector('#' + key + ' button');\n",
              "          quickchartButtonEl.disabled = true;  // To prevent multiple clicks.\n",
              "          quickchartButtonEl.classList.add('colab-df-spinner');\n",
              "          try {\n",
              "            const charts = await google.colab.kernel.invokeFunction(\n",
              "                'suggestCharts', [key], {});\n",
              "          } catch (error) {\n",
              "            console.error('Error during call to suggestCharts:', error);\n",
              "          }\n",
              "          quickchartButtonEl.classList.remove('colab-df-spinner');\n",
              "          quickchartButtonEl.classList.add('colab-df-quickchart-complete');\n",
              "        }\n",
              "        (() => {\n",
              "          let quickchartButtonEl =\n",
              "            document.querySelector('#df-148cabd0-221c-4132-ba7e-692b2ad082fc button');\n",
              "          quickchartButtonEl.style.display =\n",
              "            google.colab.kernel.accessAllowed ? 'block' : 'none';\n",
              "        })();\n",
              "      </script>\n",
              "    </div>\n",
              "\n",
              "    </div>\n",
              "  </div>\n"
            ],
            "application/vnd.google.colaboratory.intrinsic+json": {
              "type": "dataframe",
              "summary": "{\n  \"name\": \"data\",\n  \"rows\": 7,\n  \"fields\": [\n    {\n      \"column\": \"count\",\n      \"properties\": {\n        \"dtype\": \"number\",\n        \"std\": 0.0,\n        \"min\": 35040.0,\n        \"max\": 35040.0,\n        \"num_unique_values\": 1,\n        \"samples\": [\n          35040.0\n        ],\n        \"semantic_type\": \"\",\n        \"description\": \"\"\n      }\n    },\n    {\n      \"column\": \"mean\",\n      \"properties\": {\n        \"dtype\": \"number\",\n        \"std\": 16144.837079362036,\n        \"min\": 0.01152425799086758,\n        \"max\": 42750.0,\n        \"num_unique_values\": 7,\n        \"samples\": [\n          27.386892408675795\n        ],\n        \"semantic_type\": \"\",\n        \"description\": \"\"\n      }\n    },\n    {\n      \"column\": \"std\",\n      \"properties\": {\n        \"dtype\": \"number\",\n        \"std\": 9419.930066238778,\n        \"min\": 0.01615082153443048,\n        \"max\": 24940.534316748486,\n        \"num_unique_values\": 7,\n        \"samples\": [\n          33.44437970801463\n        ],\n        \"semantic_type\": \"\",\n        \"description\": \"\"\n      }\n    },\n    {\n      \"column\": \"min\",\n      \"properties\": {\n        \"dtype\": \"number\",\n        \"std\": 0.0,\n        \"min\": 0.0,\n        \"max\": 0.0,\n        \"num_unique_values\": 1,\n        \"samples\": [\n          0.0\n        ],\n        \"semantic_type\": \"\",\n        \"description\": \"\"\n      }\n    },\n    {\n      \"column\": \"25%\",\n      \"properties\": {\n        \"dtype\": \"number\",\n        \"std\": 8068.470198285953,\n        \"min\": 0.0,\n        \"max\": 21375.0,\n        \"num_unique_values\": 6,\n        \"samples\": [\n          3.2\n        ],\n        \"semantic_type\": \"\",\n        \"description\": \"\"\n      }\n    },\n    {\n      \"column\": \"50%\",\n      \"properties\": {\n        \"dtype\": \"number\",\n        \"std\": 16145.596220187956,\n        \"min\": 0.0,\n        \"max\": 42750.0,\n        \"num_unique_values\": 6,\n        \"samples\": [\n          4.57\n        ],\n        \"semantic_type\": \"\",\n        \"description\": \"\"\n      }\n    },\n    {\n      \"column\": \"75%\",\n      \"properties\": {\n        \"dtype\": \"number\",\n        \"std\": 24219.68341616311,\n        \"min\": 0.02,\n        \"max\": 64125.0,\n        \"num_unique_values\": 7,\n        \"samples\": [\n          51.2375\n        ],\n        \"semantic_type\": \"\",\n        \"description\": \"\"\n      }\n    },\n    {\n      \"column\": \"max\",\n      \"properties\": {\n        \"dtype\": \"number\",\n        \"std\": 32285.64604661047,\n        \"min\": 0.07,\n        \"max\": 85500.0,\n        \"num_unique_values\": 6,\n        \"samples\": [\n          157.18\n        ],\n        \"semantic_type\": \"\",\n        \"description\": \"\"\n      }\n    }\n  ]\n}"
            }
          },
          "metadata": {},
          "execution_count": 84
        }
      ]
    },
    {
      "cell_type": "code",
      "source": [
        "# Preprocesado de datos (estableciendo índice y frecuencia)\n",
        "# ==============================================================================\n",
        "\n",
        "data['date'] = pd.to_datetime(data['date'], dayfirst=True, errors='coerce')\n",
        "data = data.set_index('date')\n",
        "data = data.asfreq('15min')\n",
        "data = data.sort_index()"
      ],
      "metadata": {
        "id": "etGuOh6aQXMz"
      },
      "execution_count": 85,
      "outputs": []
    },
    {
      "cell_type": "code",
      "source": [
        "start_date = data.index.min()\n",
        "end_date = data.index.max()\n",
        "date_range_complete = pd.date_range(start=start_date, end=end_date, freq=data.index.freq)\n",
        "\n",
        "# Detectar si faltan fechas\n",
        "missing_dates = date_range_complete.difference(data.index)\n",
        "\n",
        "print(f\"Complete index: {len(missing_dates) == 0}\")\n",
        "print(f\"Missing dates: {len(missing_dates)}\")\n",
        "print(f\"Rows with missing values: {data.isnull().any(axis=1).mean():.2%}\")"
      ],
      "metadata": {
        "colab": {
          "base_uri": "https://localhost:8080/"
        },
        "id": "Sdrucc1KOrCC",
        "outputId": "4bf51490-e1f3-41f6-f0ed-69239413b074"
      },
      "execution_count": 86,
      "outputs": [
        {
          "output_type": "stream",
          "name": "stdout",
          "text": [
            "Complete index: True\n",
            "Missing dates: 0\n",
            "Rows with missing values: 0.00%\n"
          ]
        }
      ]
    },
    {
      "cell_type": "code",
      "source": [
        "# Extract temporal features from date\n",
        "data['year'] = data.index.year\n",
        "data['month'] = data.index.month\n",
        "data['day'] = data.index.day\n",
        "data['hour'] = data.index.hour\n",
        "data['minute'] = data.index.minute\n",
        "data['day_of_year'] = data.index.dayofyear\n",
        "data['week_of_year'] = data.index.isocalendar().week\n",
        "data['quarter'] = data.index.quarter"
      ],
      "metadata": {
        "id": "zR9EYQ8SUium"
      },
      "execution_count": 87,
      "outputs": []
    },
    {
      "cell_type": "markdown",
      "source": [
        "## 4. Data division\n",
        "\n",
        "the dataset starts on 2018-01-01 00:00:00 and ends on 2018-12-31 23:45:00. In addition, to optimize the model's hyperparameters and evaluate its predictive performance, the data is divided into three sets: training, validation and test."
      ],
      "metadata": {
        "id": "1w_OmWJo56Qe"
      }
    },
    {
      "cell_type": "code",
      "source": [
        "# 9. Dividir tren / test\n",
        "split = int(len(data)*0.8)\n",
        "data_train = data.iloc[:split]\n",
        "data_test = data.iloc[split:]\n",
        "\n",
        "train_start = str(data_train.index[0])\n",
        "train_end = str(data_train.index[-1])\n",
        "\n",
        "test_start = str(data_test.index[0])\n",
        "test_end = str(data_test.index[-1])\n"
      ],
      "metadata": {
        "id": "nPmFNQZWA8UF"
      },
      "execution_count": 145,
      "outputs": []
    },
    {
      "cell_type": "code",
      "source": [
        "print(f\"Fechas train      : {data_train.index.min()} --- {data_train.index.max()}  (n={len(data_train)})\")\n",
        "#print(f\"Fechas validacion : {datos_val.index.min()} --- {datos_val.index.max()}  (n={len(datos_val)})\")\n",
        "print(f\"Fechas test       : {data_test.index.min()} --- {data_test.index.max()}  (n={len(data_test)})\")"
      ],
      "metadata": {
        "colab": {
          "base_uri": "https://localhost:8080/"
        },
        "id": "PHwQYW9X7vmg",
        "outputId": "e0737710-3bba-4e20-957e-6dbad219e706"
      },
      "execution_count": 146,
      "outputs": [
        {
          "output_type": "stream",
          "name": "stdout",
          "text": [
            "Fechas train      : 2018-01-01 00:00:00 --- 2018-10-19 23:45:00  (n=28032)\n",
            "Fechas test       : 2018-10-20 00:00:00 --- 2018-12-31 23:45:00  (n=7008)\n"
          ]
        }
      ]
    },
    {
      "cell_type": "markdown",
      "source": [
        "## 5. Graphic exploration"
      ],
      "metadata": {
        "id": "e3A7WTot3sgc"
      }
    },
    {
      "cell_type": "markdown",
      "source": [
        "### 5.1. Time series chart"
      ],
      "metadata": {
        "id": "ucalE4ED4CX7"
      }
    },
    {
      "cell_type": "code",
      "source": [
        "# Crear la figura\n",
        "fig, ax = plt.subplots(figsize=(9, 4))\n",
        "data['Usage_kWh'].loc[train_start:train_end].plot(ax=ax, color=\"blue\", label=\"Train\")\n",
        "data['Usage_kWh'].loc[test_start:test_end].plot(ax=ax, color=\"orange\", label=\"Test\")\n",
        "\n",
        "ax.set_title(\"Actual Usage (kWh)\")\n",
        "ax.set_xlabel(\"Date\")\n",
        "ax.set_ylabel(\"Usage (MWh)\")\n",
        "ax.legend(loc=\"upper center\")\n",
        "plt.tight_layout()\n",
        "plt.show()"
      ],
      "metadata": {
        "colab": {
          "base_uri": "https://localhost:8080/",
          "height": 407
        },
        "id": "8-PHIMJC6Zwx",
        "outputId": "f629beae-0cf0-4117-b790-2fc9381ac75f"
      },
      "execution_count": 162,
      "outputs": [
        {
          "output_type": "display_data",
          "data": {
            "text/plain": [
              "<Figure size 900x400 with 1 Axes>"
            ],
            "image/png": "[encoded data removed]"
          },
          "metadata": {}
        }
      ]
    },
    {
      "cell_type": "code",
      "source": [
        "# Gráfico serie temporal con zoom\n",
        "# ==============================================================================\n",
        "zoom = ('2018-04-01 14:00:00','2018-05-01 14:00:00')\n",
        "fig = plt.figure(figsize=(8, 4))\n",
        "grid = plt.GridSpec(nrows=8, ncols=1, hspace=0.6, wspace=0)\n",
        "main_ax = fig.add_subplot(grid[1:3, :])\n",
        "zoom_ax = fig.add_subplot(grid[5:, :])\n",
        "data['Usage_kWh'].plot(ax=main_ax, c='black', alpha=0.5, linewidth=0.5)\n",
        "min_y = min(data['Usage_kWh'])\n",
        "max_y = max(data['Usage_kWh'])\n",
        "main_ax.fill_between(zoom, min_y, max_y, facecolor='blue', alpha=0.5, zorder=0)\n",
        "main_ax.set_xlabel('')\n",
        "data.loc[zoom[0]: zoom[1]]['Usage_kWh'].plot(ax=zoom_ax, color='blue', linewidth=1)\n",
        "main_ax.set_title(f'Usage (Kwh): {data.index.min()}, {data.index.max()}', fontsize=10)\n",
        "zoom_ax.set_title(f'Demanda (Kwh): {zoom}', fontsize=10)\n",
        "zoom_ax.set_xlabel('')\n",
        "plt.subplots_adjust(hspace=1)"
      ],
      "metadata": {
        "colab": {
          "base_uri": "https://localhost:8080/",
          "height": 391
        },
        "id": "OHuchqRsGqGV",
        "outputId": "b1bb3e15-2454-4e7a-8bb6-48ddb8a6a7dc"
      },
      "execution_count": 125,
      "outputs": [
        {
          "output_type": "display_data",
          "data": {
            "text/plain": [
              "<Figure size 800x400 with 2 Axes>"
            ],
            "image/png": "[encoded data removed]"
          },
          "metadata": {}
        }
      ]
    },
    {
      "cell_type": "markdown",
      "source": [
        "When zooming in on the time series, a clear weekly seasonality becomes evident, with higher consumption during weekdays (Monday to Friday) and lower or nothing consumption on weeknends. It is also observed that there is a strong correlation between the consumption of one day and that of the previous day.  "
      ],
      "metadata": {
        "id": "Bk54RcMdKO7T"
      }
    },
    {
      "cell_type": "markdown",
      "source": [
        "### 5.2. Stationarity chart"
      ],
      "metadata": {
        "id": "OA2KYdBmNWiP"
      }
    },
    {
      "cell_type": "code",
      "source": [
        "fig, axs = plt.subplots(2, 2, figsize=(8, 5), sharex=False, sharey=True)\n",
        "axs = axs.ravel()\n",
        "\n",
        "# Distribution of usage per month\n",
        "data['month'] = data.index.month\n",
        "data.boxplot(column='Usage_kWh', by='month', ax=axs[0], flierprops={'markersize': 3, 'alpha': 0.3})\n",
        "data.groupby('month')['Usage_kWh'].median().plot(style='o-', linewidth=0.8, ax=axs[0])\n",
        "axs[0].set_ylabel('Usage_kWh')\n",
        "axs[0].set_title('Usage per month', fontsize=9)\n",
        "\n",
        "# Distribution of usage per day of week\n",
        "data['week_day'] = data.index.day_of_week + 1\n",
        "data.boxplot(column='Usage_kWh', by='week_day', ax=axs[1], flierprops={'markersize': 3, 'alpha': 0.3})\n",
        "data.groupby('week_day')['Usage_kWh'].median().plot(style='o-', linewidth=0.8, ax=axs[1])\n",
        "axs[1].set_ylabel('Usage (kWh)')\n",
        "axs[1].set_title('Usage per day of the week', fontsize=9)\n",
        "\n",
        "# Distribution of usage per hour of day\n",
        "data['hour_day'] = data.index.hour + 1\n",
        "data.boxplot(column='Usage_kWh', by='hour_day', ax=axs[2], flierprops={'markersize': 3, 'alpha': 0.3})\n",
        "data.groupby('hour_day')['Usage_kWh'].median().plot(style='o-', linewidth=0.8, ax=axs[2])\n",
        "axs[2].set_ylabel('Usage (kWh)')\n",
        "axs[2].set_title('Distribution of usage per hour of day', fontsize=9)\n",
        "\n",
        "# Distribusión de demanda por día de la semana y hora del día\n",
        "mean_day_hour = data.groupby([\"week_day\", \"hour_day\"])[\"Usage_kWh\"].mean()\n",
        "mean_day_hour.plot(ax=axs[3])\n",
        "axs[3].set(\n",
        "    title       = \"Usage average\",\n",
        "    xticks      = [i * 24 for i in range(7)],\n",
        "    xticklabels = [\"Mon\", \"Tue\", \"Wed\", \"Thu\", \"Fri\", \"Sat\", \"Sun\"],\n",
        "    xlabel      = \"Day and hour\",\n",
        "    ylabel      = \"Usage\"\n",
        ")\n",
        "\n",
        "axs[3].title.set_size(10)\n",
        "\n",
        "fig.suptitle(\"Stationarity charts\", fontsize=12)\n",
        "fig.tight_layout()"
      ],
      "metadata": {
        "colab": {
          "base_uri": "https://localhost:8080/",
          "height": 512
        },
        "id": "K8vW4f_7NCCc",
        "outputId": "0afb9e95-990c-4c1c-bee1-5df7f2bd7286"
      },
      "execution_count": 92,
      "outputs": [
        {
          "output_type": "display_data",
          "data": {
            "text/plain": [
              "<Figure size 800x500 with 4 Axes>"
            ],
            "image/png": "[encoded data removed]"
          },
          "metadata": {}
        }
      ]
    },
    {
      "cell_type": "markdown",
      "source": [
        "**Augmented Dickey-Fuller (ADF)**\n",
        "\n",
        "The first step is to determine whether our random walk is stationary or not. We\n",
        "know that since there are visible trends in our sequence, it is not stationary. Nevertheless, let’s apply the ADF test to make sure.\n",
        "\n",
        "* If $p−valor <α$ ⇒ It is rejected ${H_0}$\n",
        "* If $p−valor ≥ α$ ⇒ It is accepted ${H_0}$"
      ],
      "metadata": {
        "id": "JeWbCm62zbnv"
      }
    },
    {
      "cell_type": "code",
      "source": [
        "# Run ADF test on original data\n",
        "adf_test(data['Usage_kWh'])"
      ],
      "metadata": {
        "colab": {
          "base_uri": "https://localhost:8080/"
        },
        "id": "LG9y9hyz3ddi",
        "outputId": "df08816b-0cbf-4a59-949b-72b0f0f1ac88"
      },
      "execution_count": 102,
      "outputs": [
        {
          "output_type": "stream",
          "name": "stdout",
          "text": [
            "p-value: 0.0\n",
            "ADF Statistic: -24.298021505953816\n",
            "The time series is stationary (we Reject the null hypothesis H0).\n",
            "\n",
            "\n"
          ]
        }
      ]
    },
    {
      "cell_type": "markdown",
      "source": [
        "**KPSS Test**\n",
        "\n",
        "It is an useful tool in the time series analysis toolbox for determining whether stationarity exists in a given data set is the KPSS test. The KPSS test determines if the data behaves consistently by comparing the alternative of a unit root process to the null hypothesis of trend-stationarity.\n",
        "\n",
        "The null hypothesis for the KPSS test is that the data are stationary. For this test, we do NOT want to reject the null hypothesis. In other words, we want the p-value to be greater than 0.05 not less than 0.05."
      ],
      "metadata": {
        "id": "wn6P3TSx6Bp9"
      }
    },
    {
      "cell_type": "code",
      "source": [
        "kpss_test(data['Usage_kWh'])"
      ],
      "metadata": {
        "colab": {
          "base_uri": "https://localhost:8080/"
        },
        "id": "OJHqOG0Q6Aws",
        "outputId": "54ef7b4d-1cd3-429b-8061-1f11e4a34ee9"
      },
      "execution_count": 94,
      "outputs": [
        {
          "output_type": "stream",
          "name": "stdout",
          "text": [
            "p-value: 0.01\n",
            "The time series is not stationary (Reject H0).\n",
            "\n",
            "\n"
          ]
        },
        {
          "output_type": "stream",
          "name": "stderr",
          "text": [
            "/tmp/ipython-input-4202268114.py:12: InterpolationWarning:\n",
            "\n",
            "The test statistic is outside of the range of p-values available in the\n",
            "look-up table. The actual p-value is smaller than the p-value returned.\n",
            "\n",
            "\n"
          ]
        }
      ]
    },
    {
      "cell_type": "markdown",
      "source": [
        "The p-value is greater than 0.05. The null hypothesis of stationarity around a trend is not rejected."
      ],
      "metadata": {
        "id": "x3P7lj3tJwMF"
      }
    },
    {
      "cell_type": "markdown",
      "source": [
        "### 5.3. Autocorrelation graphs"
      ],
      "metadata": {
        "id": "3GK3yN0ZgkqN"
      }
    },
    {
      "cell_type": "code",
      "source": [
        "# Autocorrelation graph\n",
        "# ==============================================================================\n",
        "fig, ax = plt.subplots(figsize=(5, 2))\n",
        "plot_acf(data['Usage_kWh'], ax=ax, lags=72)\n",
        "plt.show()"
      ],
      "metadata": {
        "colab": {
          "base_uri": "https://localhost:8080/",
          "height": 237
        },
        "id": "eIDQkIDZgvWX",
        "outputId": "c4dbd0e0-264c-4994-d304-4f2b16cd9014"
      },
      "execution_count": 95,
      "outputs": [
        {
          "output_type": "display_data",
          "data": {
            "text/plain": [
              "<Figure size 500x200 with 1 Axes>"
            ],
            "image/png": "[encoded data removed]"
          },
          "metadata": {}
        }
      ]
    },
    {
      "cell_type": "code",
      "source": [
        "# Partial autocorrelation graph\n",
        "# ==============================================================================\n",
        "fig, ax = plt.subplots(figsize=(5, 2))\n",
        "plot_pacf(data['Usage_kWh'], ax=ax, lags=60)\n",
        "plt.show()"
      ],
      "metadata": {
        "colab": {
          "base_uri": "https://localhost:8080/",
          "height": 237
        },
        "id": "fPiz1_zShN0A",
        "outputId": "7fa96b0a-fc2d-492c-bc37-951323335d95"
      },
      "execution_count": 96,
      "outputs": [
        {
          "output_type": "display_data",
          "data": {
            "text/plain": [
              "<Figure size 500x200 with 1 Axes>"
            ],
            "image/png": "[encoded data removed]"
          },
          "metadata": {}
        }
      ]
    },
    {
      "cell_type": "markdown",
      "source": [
        "We notice how the autocorrelation coefficients slowly decrease as the lag increases, which is a clear indicator that our random walk is not a stationary process."
      ],
      "metadata": {
        "id": "vvzSZ8pw6HpR"
      }
    },
    {
      "cell_type": "code",
      "source": [
        "diff_random_walk = np.diff(data['Usage_kWh'], n=1)"
      ],
      "metadata": {
        "id": "3GQTXchwP-v4"
      },
      "execution_count": 97,
      "outputs": []
    },
    {
      "cell_type": "code",
      "source": [
        "plt.figure(figsize=(8, 4))\n",
        "plt.plot(diff_random_walk, label='Log Transform + Differencing')\n",
        "plt.title(f'Log Transform followed by Differencing of Closing Prices')\n",
        "plt.xlabel('Date')\n",
        "plt.ylabel('Differenced Log of Closing Price')\n",
        "plt.legend()\n",
        "plt.show()"
      ],
      "metadata": {
        "colab": {
          "base_uri": "https://localhost:8080/",
          "height": 410
        },
        "id": "3G7UsCOEQUmf",
        "outputId": "2a4eaef6-26e6-4e6b-82d5-ac323d995eeb"
      },
      "execution_count": 106,
      "outputs": [
        {
          "output_type": "display_data",
          "data": {
            "text/plain": [
              "<Figure size 800x400 with 1 Axes>"
            ],
            "image/png": "[encoded data removed]"
          },
          "metadata": {}
        }
      ]
    },
    {
      "cell_type": "markdown",
      "source": [
        "We can visualize the differenced simulated random walk. we have removed the trend from our series. Furthermore, the variance looks quite stable. Let’s test for stationarity again, using the ADF test"
      ],
      "metadata": {
        "id": "bYUV8VrzUzTG"
      }
    },
    {
      "cell_type": "code",
      "source": [
        "adf_test(diff_random_walk)"
      ],
      "metadata": {
        "colab": {
          "base_uri": "https://localhost:8080/"
        },
        "id": "D4Q7Q8hmVXm7",
        "outputId": "a3716e4b-2ac0-4fc5-88e4-f504903fe3c8"
      },
      "execution_count": 103,
      "outputs": [
        {
          "output_type": "stream",
          "name": "stdout",
          "text": [
            "p-value: 0.0\n",
            "ADF Statistic: -40.90079545369076\n",
            "The time series is stationary (we Reject the null hypothesis H0).\n",
            "\n",
            "\n"
          ]
        }
      ]
    },
    {
      "cell_type": "markdown",
      "source": [
        "This prints out an ADF statistic of –31.79 with a p-value of 0. This time the ADF statistic is a large negative number, and the p-value is less than 0.05. Therefore, we reject the null hypothesis, and we can say that this process has no unit root and is stationary.\n",
        "\n"
      ],
      "metadata": {
        "id": "LWWKKqgJVpYt"
      }
    },
    {
      "cell_type": "code",
      "source": [
        "fig, ax = plt.subplots(figsize=(5, 2))\n",
        "plot_acf(diff_random_walk, ax=ax, lags=20)\n",
        "plt.show()"
      ],
      "metadata": {
        "colab": {
          "base_uri": "https://localhost:8080/",
          "height": 237
        },
        "id": "vRruElDJcf3O",
        "outputId": "a5d3a654-8516-4123-d582-6844ca957aeb"
      },
      "execution_count": 110,
      "outputs": [
        {
          "output_type": "display_data",
          "data": {
            "text/plain": [
              "<Figure size 500x200 with 1 Axes>"
            ],
            "image/png": "[encoded data removed]"
          },
          "metadata": {}
        }
      ]
    },
    {
      "cell_type": "markdown",
      "source": [
        "notice that there are no significant autocorrelation coefficients\n",
        "after lag 0. This means that the stationary process is completely random and\n",
        "can therefore be described as white noise. Each value is simply a random step away from the previous one, with no relation between them.\n",
        "\n",
        "We have demonstrated that our simulated data is indeed a random walk: the series\n",
        "is stationary and uncorrelated after a first-order differencing"
      ],
      "metadata": {
        "id": "scUzn9ordRGs"
      }
    },
    {
      "cell_type": "code",
      "source": [
        "# Top 10 lags con mayor autocorrelación parcial absoluta\n",
        "# ==============================================================================\n",
        "calculate_lag_autocorrelation(\n",
        "    data    = data['Usage_kWh'],\n",
        "    n_lags  = 60,\n",
        "    sort_by = \"partial_autocorrelation_abs\"\n",
        ").head(10)"
      ],
      "metadata": {
        "colab": {
          "base_uri": "https://localhost:8080/",
          "height": 363
        },
        "id": "Zo2RRqaGhjMb",
        "outputId": "41b848d0-749e-4c80-b0b2-ae069e537dd4"
      },
      "execution_count": 99,
      "outputs": [
        {
          "output_type": "execute_result",
          "data": {
            "text/plain": [
              "   lag  partial_autocorrelation_abs  partial_autocorrelation  \\\n",
              "0    1                     0.911559                 0.911559   \n",
              "1    5                     0.112307                 0.112307   \n",
              "2   17                     0.099577                 0.099577   \n",
              "3   21                     0.084499                -0.084499   \n",
              "4   37                     0.071151                -0.071151   \n",
              "5   22                     0.069954                -0.069954   \n",
              "6   23                     0.068908                -0.068908   \n",
              "7   16                     0.068189                 0.068189   \n",
              "8   19                     0.066287                 0.066287   \n",
              "9    6                     0.059981                 0.059981   \n",
              "\n",
              "   autocorrelation_abs  autocorrelation  \n",
              "0             0.911533         0.911533  \n",
              "1             0.639161         0.639161  \n",
              "2             0.321087         0.321087  \n",
              "3             0.334065         0.334065  \n",
              "4             0.092975        -0.092975  \n",
              "5             0.305830         0.305830  \n",
              "6             0.266639         0.266639  \n",
              "7             0.318953         0.318953  \n",
              "8             0.345448         0.345448  \n",
              "9             0.603707         0.603707  "
            ],
            "text/html": [
              "\n",
              "  <div id=\"df-dfbf1ee2-0b19-4165-a08c-b9150777d5db\" class=\"colab-df-container\">\n",
              "    <div>\n",
              "<style scoped>\n",
              "    .dataframe tbody tr th:only-of-type {\n",
              "        vertical-align: middle;\n",
              "    }\n",
              "\n",
              "    .dataframe tbody tr th {\n",
              "        vertical-align: top;\n",
              "    }\n",
              "\n",
              "    .dataframe thead th {\n",
              "        text-align: right;\n",
              "    }\n",
              "</style>\n",
              "<table border=\"1\" class=\"dataframe\">\n",
              "  <thead>\n",
              "    <tr style=\"text-align: right;\">\n",
              "      <th></th>\n",
              "      <th>lag</th>\n",
              "      <th>partial_autocorrelation_abs</th>\n",
              "      <th>partial_autocorrelation</th>\n",
              "      <th>autocorrelation_abs</th>\n",
              "      <th>autocorrelation</th>\n",
              "    </tr>\n",
              "  </thead>\n",
              "  <tbody>\n",
              "    <tr>\n",
              "      <th>0</th>\n",
              "      <td>1</td>\n",
              "      <td>0.911559</td>\n",
              "      <td>0.911559</td>\n",
              "      <td>0.911533</td>\n",
              "      <td>0.911533</td>\n",
              "    </tr>\n",
              "    <tr>\n",
              "      <th>1</th>\n",
              "      <td>5</td>\n",
              "      <td>0.112307</td>\n",
              "      <td>0.112307</td>\n",
              "      <td>0.639161</td>\n",
              "      <td>0.639161</td>\n",
              "    </tr>\n",
              "    <tr>\n",
              "      <th>2</th>\n",
              "      <td>17</td>\n",
              "      <td>0.099577</td>\n",
              "      <td>0.099577</td>\n",
              "      <td>0.321087</td>\n",
              "      <td>0.321087</td>\n",
              "    </tr>\n",
              "    <tr>\n",
              "      <th>3</th>\n",
              "      <td>21</td>\n",
              "      <td>0.084499</td>\n",
              "      <td>-0.084499</td>\n",
              "      <td>0.334065</td>\n",
              "      <td>0.334065</td>\n",
              "    </tr>\n",
              "    <tr>\n",
              "      <th>4</th>\n",
              "      <td>37</td>\n",
              "      <td>0.071151</td>\n",
              "      <td>-0.071151</td>\n",
              "      <td>0.092975</td>\n",
              "      <td>-0.092975</td>\n",
              "    </tr>\n",
              "    <tr>\n",
              "      <th>5</th>\n",
              "      <td>22</td>\n",
              "      <td>0.069954</td>\n",
              "      <td>-0.069954</td>\n",
              "      <td>0.305830</td>\n",
              "      <td>0.305830</td>\n",
              "    </tr>\n",
              "    <tr>\n",
              "      <th>6</th>\n",
              "      <td>23</td>\n",
              "      <td>0.068908</td>\n",
              "      <td>-0.068908</td>\n",
              "      <td>0.266639</td>\n",
              "      <td>0.266639</td>\n",
              "    </tr>\n",
              "    <tr>\n",
              "      <th>7</th>\n",
              "      <td>16</td>\n",
              "      <td>0.068189</td>\n",
              "      <td>0.068189</td>\n",
              "      <td>0.318953</td>\n",
              "      <td>0.318953</td>\n",
              "    </tr>\n",
              "    <tr>\n",
              "      <th>8</th>\n",
              "      <td>19</td>\n",
              "      <td>0.066287</td>\n",
              "      <td>0.066287</td>\n",
              "      <td>0.345448</td>\n",
              "      <td>0.345448</td>\n",
              "    </tr>\n",
              "    <tr>\n",
              "      <th>9</th>\n",
              "      <td>6</td>\n",
              "      <td>0.059981</td>\n",
              "      <td>0.059981</td>\n",
              "      <td>0.603707</td>\n",
              "      <td>0.603707</td>\n",
              "    </tr>\n",
              "  </tbody>\n",
              "</table>\n",
              "</div>\n",
              "    <div class=\"colab-df-buttons\">\n",
              "\n",
              "  <div class=\"colab-df-container\">\n",
              "    <button class=\"colab-df-convert\" onclick=\"convertToInteractive('df-dfbf1ee2-0b19-4165-a08c-b9150777d5db')\"\n",
              "            title=\"Convert this dataframe to an interactive table.\"\n",
              "            style=\"display:none;\">\n",
              "\n",
              "  <svg xmlns=\"http://www.w3.org/2000/svg\" height=\"24px\" viewBox=\"0 -960 960 960\">\n",
              "    <path d=\"M120-120v-720h720v720H120Zm60-500h600v-160H180v160Zm220 220h160v-160H400v160Zm0 220h160v-160H400v160ZM180-400h160v-160H180v160Zm440 0h160v-160H620v160ZM180-180h160v-160H180v160Zm440 0h160v-160H620v160Z\"/>\n",
              "  </svg>\n",
              "    </button>\n",
              "\n",
              "  <style>\n",
              "    .colab-df-container {\n",
              "      display:flex;\n",
              "      gap: 12px;\n",
              "    }\n",
              "\n",
              "    .colab-df-convert {\n",
              "      background-color: #E8F0FE;\n",
              "      border: none;\n",
              "      border-radius: 50%;\n",
              "      cursor: pointer;\n",
              "      display: none;\n",
              "      fill: #1967D2;\n",
              "      height: 32px;\n",
              "      padding: 0 0 0 0;\n",
              "      width: 32px;\n",
              "    }\n",
              "\n",
              "    .colab-df-convert:hover {\n",
              "      background-color: #E2EBFA;\n",
              "      box-shadow: 0px 1px 2px rgba(60, 64, 67, 0.3), 0px 1px 3px 1px rgba(60, 64, 67, 0.15);\n",
              "      fill: #174EA6;\n",
              "    }\n",
              "\n",
              "    .colab-df-buttons div {\n",
              "      margin-bottom: 4px;\n",
              "    }\n",
              "\n",
              "    [theme=dark] .colab-df-convert {\n",
              "      background-color: #3B4455;\n",
              "      fill: #D2E3FC;\n",
              "    }\n",
              "\n",
              "    [theme=dark] .colab-df-convert:hover {\n",
              "      background-color: #434B5C;\n",
              "      box-shadow: 0px 1px 3px 1px rgba(0, 0, 0, 0.15);\n",
              "      filter: drop-shadow(0px 1px 2px rgba(0, 0, 0, 0.3));\n",
              "      fill: #FFFFFF;\n",
              "    }\n",
              "  </style>\n",
              "\n",
              "    <script>\n",
              "      const buttonEl =\n",
              "        document.querySelector('#df-dfbf1ee2-0b19-4165-a08c-b9150777d5db button.colab-df-convert');\n",
              "      buttonEl.style.display =\n",
              "        google.colab.kernel.accessAllowed ? 'block' : 'none';\n",
              "\n",
              "      async function convertToInteractive(key) {\n",
              "        const element = document.querySelector('#df-dfbf1ee2-0b19-4165-a08c-b9150777d5db');\n",
              "        const dataTable =\n",
              "          await google.colab.kernel.invokeFunction('convertToInteractive',\n",
              "                                                    [key], {});\n",
              "        if (!dataTable) return;\n",
              "\n",
              "        const docLinkHtml = 'Like what you see? Visit the ' +\n",
              "          '<a target=\"_blank\" href=https://colab.research.google.com/notebooks/data_table.ipynb>data table notebook</a>'\n",
              "          + ' to learn more about interactive tables.';\n",
              "        element.innerHTML = '';\n",
              "        dataTable['output_type'] = 'display_data';\n",
              "        await google.colab.output.renderOutput(dataTable, element);\n",
              "        const docLink = document.createElement('div');\n",
              "        docLink.innerHTML = docLinkHtml;\n",
              "        element.appendChild(docLink);\n",
              "      }\n",
              "    </script>\n",
              "  </div>\n",
              "\n",
              "\n",
              "    <div id=\"df-321391a6-329b-42d8-9278-8ca8e9a788e3\">\n",
              "      <button class=\"colab-df-quickchart\" onclick=\"quickchart('df-321391a6-329b-42d8-9278-8ca8e9a788e3')\"\n",
              "                title=\"Suggest charts\"\n",
              "                style=\"display:none;\">\n",
              "\n",
              "<svg xmlns=\"http://www.w3.org/2000/svg\" height=\"24px\"viewBox=\"0 0 24 24\"\n",
              "     width=\"24px\">\n",
              "    <g>\n",
              "        <path d=\"M19 3H5c-1.1 0-2 .9-2 2v14c0 1.1.9 2 2 2h14c1.1 0 2-.9 2-2V5c0-1.1-.9-2-2-2zM9 17H7v-7h2v7zm4 0h-2V7h2v10zm4 0h-2v-4h2v4z\"/>\n",
              "    </g>\n",
              "</svg>\n",
              "      </button>\n",
              "\n",
              "<style>\n",
              "  .colab-df-quickchart {\n",
              "      --bg-color: #E8F0FE;\n",
              "      --fill-color: #1967D2;\n",
              "      --hover-bg-color: #E2EBFA;\n",
              "      --hover-fill-color: #174EA6;\n",
              "      --disabled-fill-color: #AAA;\n",
              "      --disabled-bg-color: #DDD;\n",
              "  }\n",
              "\n",
              "  [theme=dark] .colab-df-quickchart {\n",
              "      --bg-color: #3B4455;\n",
              "      --fill-color: #D2E3FC;\n",
              "      --hover-bg-color: #434B5C;\n",
              "      --hover-fill-color: #FFFFFF;\n",
              "      --disabled-bg-color: #3B4455;\n",
              "      --disabled-fill-color: #666;\n",
              "  }\n",
              "\n",
              "  .colab-df-quickchart {\n",
              "    background-color: var(--bg-color);\n",
              "    border: none;\n",
              "    border-radius: 50%;\n",
              "    cursor: pointer;\n",
              "    display: none;\n",
              "    fill: var(--fill-color);\n",
              "    height: 32px;\n",
              "    padding: 0;\n",
              "    width: 32px;\n",
              "  }\n",
              "\n",
              "  .colab-df-quickchart:hover {\n",
              "    background-color: var(--hover-bg-color);\n",
              "    box-shadow: 0 1px 2px rgba(60, 64, 67, 0.3), 0 1px 3px 1px rgba(60, 64, 67, 0.15);\n",
              "    fill: var(--button-hover-fill-color);\n",
              "  }\n",
              "\n",
              "  .colab-df-quickchart-complete:disabled,\n",
              "  .colab-df-quickchart-complete:disabled:hover {\n",
              "    background-color: var(--disabled-bg-color);\n",
              "    fill: var(--disabled-fill-color);\n",
              "    box-shadow: none;\n",
              "  }\n",
              "\n",
              "  .colab-df-spinner {\n",
              "    border: 2px solid var(--fill-color);\n",
              "    border-color: transparent;\n",
              "    border-bottom-color: var(--fill-color);\n",
              "    animation:\n",
              "      spin 1s steps(1) infinite;\n",
              "  }\n",
              "\n",
              "  @keyframes spin {\n",
              "    0% {\n",
              "      border-color: transparent;\n",
              "      border-bottom-color: var(--fill-color);\n",
              "      border-left-color: var(--fill-color);\n",
              "    }\n",
              "    20% {\n",
              "      border-color: transparent;\n",
              "      border-left-color: var(--fill-color);\n",
              "      border-top-color: var(--fill-color);\n",
              "    }\n",
              "    30% {\n",
              "      border-color: transparent;\n",
              "      border-left-color: var(--fill-color);\n",
              "      border-top-color: var(--fill-color);\n",
              "      border-right-color: var(--fill-color);\n",
              "    }\n",
              "    40% {\n",
              "      border-color: transparent;\n",
              "      border-right-color: var(--fill-color);\n",
              "      border-top-color: var(--fill-color);\n",
              "    }\n",
              "    60% {\n",
              "      border-color: transparent;\n",
              "      border-right-color: var(--fill-color);\n",
              "    }\n",
              "    80% {\n",
              "      border-color: transparent;\n",
              "      border-right-color: var(--fill-color);\n",
              "      border-bottom-color: var(--fill-color);\n",
              "    }\n",
              "    90% {\n",
              "      border-color: transparent;\n",
              "      border-bottom-color: var(--fill-color);\n",
              "    }\n",
              "  }\n",
              "</style>\n",
              "\n",
              "      <script>\n",
              "        async function quickchart(key) {\n",
              "          const quickchartButtonEl =\n",
              "            document.querySelector('#' + key + ' button');\n",
              "          quickchartButtonEl.disabled = true;  // To prevent multiple clicks.\n",
              "          quickchartButtonEl.classList.add('colab-df-spinner');\n",
              "          try {\n",
              "            const charts = await google.colab.kernel.invokeFunction(\n",
              "                'suggestCharts', [key], {});\n",
              "          } catch (error) {\n",
              "            console.error('Error during call to suggestCharts:', error);\n",
              "          }\n",
              "          quickchartButtonEl.classList.remove('colab-df-spinner');\n",
              "          quickchartButtonEl.classList.add('colab-df-quickchart-complete');\n",
              "        }\n",
              "        (() => {\n",
              "          let quickchartButtonEl =\n",
              "            document.querySelector('#df-321391a6-329b-42d8-9278-8ca8e9a788e3 button');\n",
              "          quickchartButtonEl.style.display =\n",
              "            google.colab.kernel.accessAllowed ? 'block' : 'none';\n",
              "        })();\n",
              "      </script>\n",
              "    </div>\n",
              "\n",
              "    </div>\n",
              "  </div>\n"
            ],
            "application/vnd.google.colaboratory.intrinsic+json": {
              "type": "dataframe",
              "summary": "{\n  \"name\": \")\",\n  \"rows\": 10,\n  \"fields\": [\n    {\n      \"column\": \"lag\",\n      \"properties\": {\n        \"dtype\": \"number\",\n        \"std\": 10,\n        \"min\": 1,\n        \"max\": 37,\n        \"num_unique_values\": 10,\n        \"samples\": [\n          19,\n          5,\n          22\n        ],\n        \"semantic_type\": \"\",\n        \"description\": \"\"\n      }\n    },\n    {\n      \"column\": \"partial_autocorrelation_abs\",\n      \"properties\": {\n        \"dtype\": \"number\",\n        \"std\": 0.26414781933444786,\n        \"min\": 0.05998134309807906,\n        \"max\": 0.911558828024557,\n        \"num_unique_values\": 10,\n        \"samples\": [\n          0.06628658914313278,\n          0.11230667259424787,\n          0.06995425658513937\n        ],\n        \"semantic_type\": \"\",\n        \"description\": \"\"\n      }\n    },\n    {\n      \"column\": \"partial_autocorrelation\",\n      \"properties\": {\n        \"dtype\": \"number\",\n        \"std\": 0.2949992960269651,\n        \"min\": -0.08449864682040928,\n        \"max\": 0.911558828024557,\n        \"num_unique_values\": 10,\n        \"samples\": [\n          0.06628658914313278,\n          0.11230667259424787,\n          -0.06995425658513937\n        ],\n        \"semantic_type\": \"\",\n        \"description\": \"\"\n      }\n    },\n    {\n      \"column\": \"autocorrelation_abs\",\n      \"properties\": {\n        \"dtype\": \"number\",\n        \"std\": 0.2355735641531329,\n        \"min\": 0.09297465597413433,\n        \"max\": 0.9115328132178212,\n        \"num_unique_values\": 10,\n        \"samples\": [\n          0.34544800240352647,\n          0.6391607514777244,\n          0.3058299276439561\n        ],\n        \"semantic_type\": \"\",\n        \"description\": \"\"\n      }\n    },\n    {\n      \"column\": \"autocorrelation\",\n      \"properties\": {\n        \"dtype\": \"number\",\n        \"std\": 0.2687295322351668,\n        \"min\": -0.09297465597413433,\n        \"max\": 0.9115328132178212,\n        \"num_unique_values\": 10,\n        \"samples\": [\n          0.34544800240352647,\n          0.6391607514777244,\n          0.3058299276439561\n        ],\n        \"semantic_type\": \"\",\n        \"description\": \"\"\n      }\n    }\n  ]\n}"
            }
          },
          "metadata": {},
          "execution_count": 99
        }
      ]
    },
    {
      "cell_type": "markdown",
      "source": [],
      "metadata": {
        "id": "I0GyNGuTdWjo"
      }
    },
    {
      "cell_type": "markdown",
      "source": [
        "## 6. Modelo Baseline"
      ],
      "metadata": {
        "id": "hX1ta9zqdXHC"
      }
    },
    {
      "cell_type": "code",
      "source": [
        "# Create a baseline: value of the same hour of the previous day\n",
        "# ==============================================================================\n",
        "forecaster = ForecasterEquivalentDate(\n",
        "                 offset    = pd.DateOffset(days=1),\n",
        "                 n_offsets = 1\n",
        "             )\n",
        "\n",
        "# Forescater's training\n",
        "# ==============================================================================\n",
        "end_train = str(data_train.index[-1])\n",
        "forecaster.fit(y=data.loc[:end_train , 'Usage_kWh'])\n",
        "forecaster"
      ],
      "metadata": {
        "colab": {
          "base_uri": "https://localhost:8080/",
          "height": 373
        },
        "id": "vP2N6FwGd5s_",
        "outputId": "97dd37c7-cff8-4539-a940-34bae0910ba8"
      },
      "execution_count": 111,
      "outputs": [
        {
          "output_type": "execute_result",
          "data": {
            "text/plain": [
              "======================== \n",
              "ForecasterEquivalentDate \n",
              "======================== \n",
              "Offset: <DateOffset: days=1> \n",
              "Number of offsets: 1 \n",
              "Aggregation function: mean \n",
              "Window size: 96 \n",
              "Series name: Usage_kWh \n",
              "Training range: [Timestamp('2018-01-01 00:00:00'), Timestamp('2018-10-19 23:45:00')] \n",
              "Training index type: DatetimeIndex \n",
              "Training index frequency: 15min \n",
              "Creation date: 2025-10-23 10:06:16 \n",
              "Last fit date: 2025-10-23 10:06:16 \n",
              "Skforecast version: 0.18.0 \n",
              "Python version: 3.12.12 \n",
              "Forecaster id: None "
            ],
            "text/html": [
              "\n",
              "    <style>\n",
              "        .container-66ea214fb4cc46b9a230f513bdb60ea3 {\n",
              "            font-family: 'Arial', sans-serif;\n",
              "            font-size: 0.9em;\n",
              "            color: #333333;\n",
              "            border: 1px solid #ddd;\n",
              "            background-color: #f0f8ff;\n",
              "            padding: 5px 15px;\n",
              "            border-radius: 8px;\n",
              "            max-width: 600px;\n",
              "            #margin: auto;\n",
              "        }\n",
              "        .container-66ea214fb4cc46b9a230f513bdb60ea3 h2 {\n",
              "            font-size: 1.5em;\n",
              "            color: #222222;\n",
              "            border-bottom: 2px solid #ddd;\n",
              "            padding-bottom: 5px;\n",
              "            margin-bottom: 15px;\n",
              "            margin-top: 5px;\n",
              "        }\n",
              "        .container-66ea214fb4cc46b9a230f513bdb60ea3 details {\n",
              "            margin: 10px 0;\n",
              "        }\n",
              "        .container-66ea214fb4cc46b9a230f513bdb60ea3 summary {\n",
              "            font-weight: bold;\n",
              "            font-size: 1.1em;\n",
              "            color: #000000;\n",
              "            cursor: pointer;\n",
              "            margin-bottom: 5px;\n",
              "            background-color: #b3dbfd;\n",
              "            padding: 5px;\n",
              "            border-radius: 5px;\n",
              "        }\n",
              "        .container-66ea214fb4cc46b9a230f513bdb60ea3 summary:hover {\n",
              "            color: #000000;\n",
              "            background-color: #e0e0e0;\n",
              "        }\n",
              "        .container-66ea214fb4cc46b9a230f513bdb60ea3 ul {\n",
              "            font-family: 'Courier New', monospace;\n",
              "            list-style-type: none;\n",
              "            padding-left: 20px;\n",
              "            margin: 10px 0;\n",
              "            line-height: normal;\n",
              "        }\n",
              "        .container-66ea214fb4cc46b9a230f513bdb60ea3 li {\n",
              "            margin: 5px 0;\n",
              "            font-family: 'Courier New', monospace;\n",
              "        }\n",
              "        .container-66ea214fb4cc46b9a230f513bdb60ea3 li strong {\n",
              "            font-weight: bold;\n",
              "            color: #444444;\n",
              "        }\n",
              "        .container-66ea214fb4cc46b9a230f513bdb60ea3 li::before {\n",
              "            content: \"- \";\n",
              "            color: #666666;\n",
              "        }\n",
              "        .container-66ea214fb4cc46b9a230f513bdb60ea3 a {\n",
              "            color: #001633;\n",
              "            text-decoration: none;\n",
              "        }\n",
              "        .container-66ea214fb4cc46b9a230f513bdb60ea3 a:hover {\n",
              "            color: #359ccb; \n",
              "        }\n",
              "    </style>\n",
              "    \n",
              "        <div class=\"container-66ea214fb4cc46b9a230f513bdb60ea3\">\n",
              "            <h2>ForecasterEquivalentDate</h2>\n",
              "            <details open>\n",
              "                <summary>General Information</summary>\n",
              "                <ul>\n",
              "                    <li><strong>Regressor:</strong> NoneType</li>\n",
              "                    <li><strong>Offset:</strong> <DateOffset: days=1></li>\n",
              "                    <li><strong>Number of offsets:</strong> 1</li>\n",
              "                    <li><strong>Aggregation function:</strong> mean</li>\n",
              "                    <li><strong>Window size:</strong> 96</li>\n",
              "                    <li><strong>Creation date:</strong> 2025-10-23 10:06:16</li>\n",
              "                    <li><strong>Last fit date:</strong> 2025-10-23 10:06:16</li>\n",
              "                    <li><strong>Skforecast version:</strong> 0.18.0</li>\n",
              "                    <li><strong>Python version:</strong> 3.12.12</li>\n",
              "                    <li><strong>Forecaster id:</strong> None</li>\n",
              "                </ul>\n",
              "            </details>\n",
              "            <details>\n",
              "                <summary>Training Information</summary>\n",
              "                <ul>\n",
              "                    <li><strong>Training range:</strong> [Timestamp('2018-01-01 00:00:00'), Timestamp('2018-10-19 23:45:00')]</li>\n",
              "                    <li><strong>Training index type:</strong> DatetimeIndex</li>\n",
              "                    <li><strong>Training index frequency:</strong> 15min</li>\n",
              "                </ul>\n",
              "            </details>\n",
              "            <p>\n",
              "                <a href=\"https://skforecast.org/0.18.0/api/forecasterequivalentdate.html\">&#128712 <strong>API Reference</strong></a>\n",
              "                &nbsp;&nbsp;\n",
              "                <a href=\"https://skforecast.org/0.18.0/user_guides/forecasting-baseline.html\">&#128462 <strong>User Guide</strong></a>\n",
              "            </p>\n",
              "        </div>\n",
              "        "
            ]
          },
          "metadata": {},
          "execution_count": 111
        }
      ]
    },
    {
      "cell_type": "code",
      "source": [
        "# Backtesting\n",
        "# ==============================================================================\n",
        "end_test = str(data_test.index[-1])\n",
        "\n",
        "cv = TimeSeriesFold(\n",
        "        steps              = 24,\n",
        "        initial_train_size = len(data.loc[:end_train]),\n",
        "        refit              = False\n",
        ")\n",
        "metrica, predicciones = backtesting_forecaster(\n",
        "                          forecaster = forecaster,\n",
        "                          y          = data['Usage_kWh'],\n",
        "                          cv         = cv,\n",
        "                          metric     = 'mean_absolute_error'\n",
        "                       )\n",
        "metrica"
      ],
      "metadata": {
        "id": "CwGZ07mq4f-b"
      },
      "execution_count": null,
      "outputs": []
    },
    {
      "cell_type": "code",
      "source": [
        "X_train.index"
      ],
      "metadata": {
        "colab": {
          "base_uri": "https://localhost:8080/"
        },
        "id": "oZIGlKf9zdnN",
        "outputId": "ca16b6ac-486a-4aed-f303-eca6b44b9887"
      },
      "execution_count": 141,
      "outputs": [
        {
          "output_type": "execute_result",
          "data": {
            "text/plain": [
              "DatetimeIndex(['2018-01-01 00:00:00', '2018-01-01 00:15:00',\n",
              "               '2018-01-01 00:30:00', '2018-01-01 00:45:00',\n",
              "               '2018-01-01 01:00:00', '2018-01-01 01:15:00',\n",
              "               '2018-01-01 01:30:00', '2018-01-01 01:45:00',\n",
              "               '2018-01-01 02:00:00', '2018-01-01 02:15:00',\n",
              "               ...\n",
              "               '2018-10-19 21:30:00', '2018-10-19 21:45:00',\n",
              "               '2018-10-19 22:00:00', '2018-10-19 22:15:00',\n",
              "               '2018-10-19 22:30:00', '2018-10-19 22:45:00',\n",
              "               '2018-10-19 23:00:00', '2018-10-19 23:15:00',\n",
              "               '2018-10-19 23:30:00', '2018-10-19 23:45:00'],\n",
              "              dtype='datetime64[ns]', name='date', length=28032, freq='15min')"
            ]
          },
          "metadata": {},
          "execution_count": 141
        }
      ]
    },
    {
      "cell_type": "markdown",
      "source": [
        "## 7. Recursive autoregressive model\n",
        "\n",
        "It's training a recursive autoregressive model"
      ],
      "metadata": {
        "id": "sUyuJc2yFjHR"
      }
    },
    {
      "cell_type": "code",
      "source": [
        "# Create the forecaster\n",
        "# ==============================================================================\n",
        "window_features = RollingFeatures(stats=[\"mean\"], window_sizes=24 * 3)\n",
        "\n",
        "forecaster = ForecasterRecursive(\n",
        "                 regressor       = LGBMRegressor(random_state=15926, verbose=-1),\n",
        "                 lags            = 24,\n",
        "                 window_features = window_features\n",
        "             )\n",
        "\n",
        "# Entrena el forecaster\n",
        "# ==============================================================================\n",
        "forecaster.fit(y=data.loc[:end_train, 'Usage_kWh'])\n",
        "forecaster"
      ],
      "metadata": {
        "id": "WNFG_8YsIKKq"
      },
      "execution_count": null,
      "outputs": []
    },
    {
      "cell_type": "markdown",
      "source": [
        "### 7.1. Backtesting"
      ],
      "metadata": {
        "id": "qIpRYRrHKSV6"
      }
    },
    {
      "cell_type": "code",
      "source": [
        "# Backtesting\n",
        "# ==============================================================================\n",
        "metrica, predicciones = backtesting_forecaster(\n",
        "                            forecaster = forecaster,\n",
        "                            y          = data['Usage_kWh'],\n",
        "                            cv         = cv,\n",
        "                            metric     = 'mean_absolute_error',\n",
        "                            verbose    = True,  # False para no mostrar info\n",
        "                        )"
      ],
      "metadata": {
        "id": "fu53HqCoFh3k"
      },
      "execution_count": null,
      "outputs": []
    },
    {
      "cell_type": "code",
      "source": [
        "# Error backtest\n",
        "# ==============================================================================\n",
        "metrica"
      ],
      "metadata": {
        "id": "WDgk5eBPLE_x"
      },
      "execution_count": null,
      "outputs": []
    },
    {
      "cell_type": "code",
      "source": [
        "# Predict\n",
        "# ==============================================================================\n",
        "predictions = forecaster.predict(steps=36)\n",
        "predictions.head(3)"
      ],
      "metadata": {
        "id": "y-V_QSlbK46B"
      },
      "execution_count": null,
      "outputs": []
    },
    {
      "cell_type": "markdown",
      "source": [],
      "metadata": {
        "id": "GsBrWfLNRvWW"
      }
    },
    {
      "cell_type": "code",
      "source": [
        "forecaster = ForecasterRecursive(\n",
        "                 regressor = RandomForestRegressor(random_state=123),\n",
        "                 lags      = 8\n",
        "             )\n",
        "forecaster.fit(y=data_train['Usage_kWh'])\n",
        "forecaster"
      ],
      "metadata": {
        "colab": {
          "base_uri": "https://localhost:8080/",
          "height": 598
        },
        "id": "ySmnD_nYBFJ_",
        "outputId": "0815ca43-c802-4ea4-f13d-484c288924ac"
      },
      "execution_count": 189,
      "outputs": [
        {
          "output_type": "execute_result",
          "data": {
            "text/plain": [
              "=================== \n",
              "ForecasterRecursive \n",
              "=================== \n",
              "Regressor: RandomForestRegressor \n",
              "Lags: [1 2 3 4 5 6 7 8] \n",
              "Window features: None \n",
              "Window size: 8 \n",
              "Series name: Usage_kWh \n",
              "Exogenous included: False \n",
              "Exogenous names: None \n",
              "Transformer for y: None \n",
              "Transformer for exog: None \n",
              "Weight function included: False \n",
              "Differentiation order: None \n",
              "Training range: [Timestamp('2018-01-01 00:00:00'), Timestamp('2018-10-19 23:45:00')] \n",
              "Training index type: DatetimeIndex \n",
              "Training index frequency: 15min \n",
              "Regressor parameters: \n",
              "    {'bootstrap': True, 'ccp_alpha': 0.0, 'criterion': 'squared_error', 'max_depth':\n",
              "    None, 'max_features': 1.0, 'max_leaf_nodes': None, 'max_samples': None,\n",
              "    'min_impurity_decrease': 0.0, 'min_samples_leaf': 1, 'min_samples_split': 2,\n",
              "    'min_weight_fraction_leaf': 0.0, 'monotonic_cst': None, 'n_estimators': 100,\n",
              "    'n_jobs': None, 'oob_score': False, 'random_state': 123, 'verbose': 0,\n",
              "    'warm_start': False} \n",
              "fit_kwargs: {} \n",
              "Creation date: 2025-10-23 13:36:45 \n",
              "Last fit date: 2025-10-23 13:37:25 \n",
              "Skforecast version: 0.18.0 \n",
              "Python version: 3.12.12 \n",
              "Forecaster id: None "
            ],
            "text/html": [
              "\n",
              "    <style>\n",
              "        .container-344d1e50fda84a6a8e50b10be54a9c18 {\n",
              "            font-family: 'Arial', sans-serif;\n",
              "            font-size: 0.9em;\n",
              "            color: #333333;\n",
              "            border: 1px solid #ddd;\n",
              "            background-color: #f0f8ff;\n",
              "            padding: 5px 15px;\n",
              "            border-radius: 8px;\n",
              "            max-width: 600px;\n",
              "            #margin: auto;\n",
              "        }\n",
              "        .container-344d1e50fda84a6a8e50b10be54a9c18 h2 {\n",
              "            font-size: 1.5em;\n",
              "            color: #222222;\n",
              "            border-bottom: 2px solid #ddd;\n",
              "            padding-bottom: 5px;\n",
              "            margin-bottom: 15px;\n",
              "            margin-top: 5px;\n",
              "        }\n",
              "        .container-344d1e50fda84a6a8e50b10be54a9c18 details {\n",
              "            margin: 10px 0;\n",
              "        }\n",
              "        .container-344d1e50fda84a6a8e50b10be54a9c18 summary {\n",
              "            font-weight: bold;\n",
              "            font-size: 1.1em;\n",
              "            color: #000000;\n",
              "            cursor: pointer;\n",
              "            margin-bottom: 5px;\n",
              "            background-color: #b3dbfd;\n",
              "            padding: 5px;\n",
              "            border-radius: 5px;\n",
              "        }\n",
              "        .container-344d1e50fda84a6a8e50b10be54a9c18 summary:hover {\n",
              "            color: #000000;\n",
              "            background-color: #e0e0e0;\n",
              "        }\n",
              "        .container-344d1e50fda84a6a8e50b10be54a9c18 ul {\n",
              "            font-family: 'Courier New', monospace;\n",
              "            list-style-type: none;\n",
              "            padding-left: 20px;\n",
              "            margin: 10px 0;\n",
              "            line-height: normal;\n",
              "        }\n",
              "        .container-344d1e50fda84a6a8e50b10be54a9c18 li {\n",
              "            margin: 5px 0;\n",
              "            font-family: 'Courier New', monospace;\n",
              "        }\n",
              "        .container-344d1e50fda84a6a8e50b10be54a9c18 li strong {\n",
              "            font-weight: bold;\n",
              "            color: #444444;\n",
              "        }\n",
              "        .container-344d1e50fda84a6a8e50b10be54a9c18 li::before {\n",
              "            content: \"- \";\n",
              "            color: #666666;\n",
              "        }\n",
              "        .container-344d1e50fda84a6a8e50b10be54a9c18 a {\n",
              "            color: #001633;\n",
              "            text-decoration: none;\n",
              "        }\n",
              "        .container-344d1e50fda84a6a8e50b10be54a9c18 a:hover {\n",
              "            color: #359ccb; \n",
              "        }\n",
              "    </style>\n",
              "    \n",
              "        <div class=\"container-344d1e50fda84a6a8e50b10be54a9c18\">\n",
              "            <h2>ForecasterRecursive</h2>\n",
              "            <details open>\n",
              "                <summary>General Information</summary>\n",
              "                <ul>\n",
              "                    <li><strong>Regressor:</strong> RandomForestRegressor</li>\n",
              "                    <li><strong>Lags:</strong> [1 2 3 4 5 6 7 8]</li>\n",
              "                    <li><strong>Window features:</strong> None</li>\n",
              "                    <li><strong>Window size:</strong> 8</li>\n",
              "                    <li><strong>Series name:</strong> Usage_kWh</li>\n",
              "                    <li><strong>Exogenous included:</strong> False</li>\n",
              "                    <li><strong>Weight function included:</strong> False</li>\n",
              "                    <li><strong>Differentiation order:</strong> None</li>\n",
              "                    <li><strong>Creation date:</strong> 2025-10-23 13:36:45</li>\n",
              "                    <li><strong>Last fit date:</strong> 2025-10-23 13:37:25</li>\n",
              "                    <li><strong>Skforecast version:</strong> 0.18.0</li>\n",
              "                    <li><strong>Python version:</strong> 3.12.12</li>\n",
              "                    <li><strong>Forecaster id:</strong> None</li>\n",
              "                </ul>\n",
              "            </details>\n",
              "            <details>\n",
              "                <summary>Exogenous Variables</summary>\n",
              "                <ul>\n",
              "                    None\n",
              "                </ul>\n",
              "            </details>\n",
              "            <details>\n",
              "                <summary>Data Transformations</summary>\n",
              "                <ul>\n",
              "                    <li><strong>Transformer for y:</strong> None</li>\n",
              "                    <li><strong>Transformer for exog:</strong> None</li>\n",
              "                </ul>\n",
              "            </details>\n",
              "            <details>\n",
              "                <summary>Training Information</summary>\n",
              "                <ul>\n",
              "                    <li><strong>Training range:</strong> [Timestamp('2018-01-01 00:00:00'), Timestamp('2018-10-19 23:45:00')]</li>\n",
              "                    <li><strong>Training index type:</strong> DatetimeIndex</li>\n",
              "                    <li><strong>Training index frequency:</strong> 15min</li>\n",
              "                </ul>\n",
              "            </details>\n",
              "            <details>\n",
              "                <summary>Regressor Parameters</summary>\n",
              "                <ul>\n",
              "                    {'bootstrap': True, 'ccp_alpha': 0.0, 'criterion': 'squared_error', 'max_depth': None, 'max_features': 1.0, 'max_leaf_nodes': None, 'max_samples': None, 'min_impurity_decrease': 0.0, 'min_samples_leaf': 1, 'min_samples_split': 2, 'min_weight_fraction_leaf': 0.0, 'monotonic_cst': None, 'n_estimators': 100, 'n_jobs': None, 'oob_score': False, 'random_state': 123, 'verbose': 0, 'warm_start': False}\n",
              "                </ul>\n",
              "            </details>\n",
              "            <details>\n",
              "                <summary>Fit Kwargs</summary>\n",
              "                <ul>\n",
              "                    {}\n",
              "                </ul>\n",
              "            </details>\n",
              "            <p>\n",
              "                <a href=\"https://skforecast.org/0.18.0/api/forecasterrecursive.html\">&#128712 <strong>API Reference</strong></a>\n",
              "                &nbsp;&nbsp;\n",
              "                <a href=\"https://skforecast.org/0.18.0/user_guides/autoregresive-forecaster.html\">&#128462 <strong>User Guide</strong></a>\n",
              "            </p>\n",
              "        </div>\n",
              "        "
            ]
          },
          "metadata": {},
          "execution_count": 189
        }
      ]
    },
    {
      "cell_type": "code",
      "source": [
        "# Predictions\n",
        "# ==============================================================================\n",
        "steps = 36\n",
        "predictions = forecaster.predict(steps=steps)\n",
        "predictions.head(5)"
      ],
      "metadata": {
        "id": "8UkP5EfUGbCg",
        "outputId": "8431a139-b3d5-4c48-ecd7-f77b9629e489",
        "colab": {
          "base_uri": "https://localhost:8080/",
          "height": 241
        }
      },
      "execution_count": 185,
      "outputs": [
        {
          "output_type": "execute_result",
          "data": {
            "text/plain": [
              "2018-10-20 00:00:00    57.5376\n",
              "2018-10-20 00:15:00    61.5259\n",
              "2018-10-20 00:30:00    54.8964\n",
              "2018-10-20 00:45:00    57.3469\n",
              "2018-10-20 01:00:00    57.1476\n",
              "Freq: 15min, Name: pred, dtype: float64"
            ],
            "text/html": [
              "<div>\n",
              "<style scoped>\n",
              "    .dataframe tbody tr th:only-of-type {\n",
              "        vertical-align: middle;\n",
              "    }\n",
              "\n",
              "    .dataframe tbody tr th {\n",
              "        vertical-align: top;\n",
              "    }\n",
              "\n",
              "    .dataframe thead th {\n",
              "        text-align: right;\n",
              "    }\n",
              "</style>\n",
              "<table border=\"1\" class=\"dataframe\">\n",
              "  <thead>\n",
              "    <tr style=\"text-align: right;\">\n",
              "      <th></th>\n",
              "      <th>pred</th>\n",
              "    </tr>\n",
              "  </thead>\n",
              "  <tbody>\n",
              "    <tr>\n",
              "      <th>2018-10-20 00:00:00</th>\n",
              "      <td>57.5376</td>\n",
              "    </tr>\n",
              "    <tr>\n",
              "      <th>2018-10-20 00:15:00</th>\n",
              "      <td>61.5259</td>\n",
              "    </tr>\n",
              "    <tr>\n",
              "      <th>2018-10-20 00:30:00</th>\n",
              "      <td>54.8964</td>\n",
              "    </tr>\n",
              "    <tr>\n",
              "      <th>2018-10-20 00:45:00</th>\n",
              "      <td>57.3469</td>\n",
              "    </tr>\n",
              "    <tr>\n",
              "      <th>2018-10-20 01:00:00</th>\n",
              "      <td>57.1476</td>\n",
              "    </tr>\n",
              "  </tbody>\n",
              "</table>\n",
              "</div><br><label><b>dtype:</b> float64</label>"
            ]
          },
          "metadata": {},
          "execution_count": 185
        }
      ]
    },
    {
      "cell_type": "code",
      "source": [
        "# Plot predictions versus test data\n",
        "# ==============================================================================\n",
        "fig, ax = plt.subplots(figsize=(9, 4))\n",
        "data_train['Usage_kWh'].plot(ax=ax, color=\"blue\", label='train')\n",
        "data_test['Usage_kWh'].plot(ax=ax, color=\"orange\", label='test')\n",
        "predictions.plot(ax=ax, color=\"red\", label='predictions')\n",
        "ax.set_title(\"Actual Usage (kWh)\")\n",
        "ax.set_xlabel(\"Date\")\n",
        "ax.set_ylabel(\"Usage (MWh)\")\n",
        "ax.legend(loc=\"upper center\")\n",
        "plt.tight_layout()\n",
        "plt.show()\n",
        "\n"
      ],
      "metadata": {
        "id": "rVscGRBxGpfA",
        "outputId": "3d24587f-1cc7-4312-b327-09809e8a8c1f",
        "colab": {
          "base_uri": "https://localhost:8080/",
          "height": 407
        }
      },
      "execution_count": 188,
      "outputs": [
        {
          "output_type": "display_data",
          "data": {
            "text/plain": [
              "<Figure size 900x400 with 1 Axes>"
            ],
            "image/png": "[encoded data removed]"
          },
          "metadata": {}
        }
      ]
    }
  ]
}